{
 "cells": [
  {
   "cell_type": "markdown",
   "metadata": {},
   "source": [
    "## Advanced options for multioutput handling"
   ]
  },
  {
   "cell_type": "markdown",
   "metadata": {},
   "source": [
    "### Imports"
   ]
  },
  {
   "cell_type": "code",
   "execution_count": 1,
   "metadata": {},
   "outputs": [],
   "source": [
    "import os\n",
    "# set the device to run\n",
    "os.environ[\"CUDA_DEVICE_ORDER\"] = \"PCI_BUS_ID\"\n",
    "os.environ[\"CUDA_VISIBLE_DEVICES\"] = \"1\"\n",
    "\n",
    "os.makedirs('data', exist_ok=True)\n",
    "\n",
    "import pandas as pd\n",
    "from pandas import Series, DataFrame\n",
    "\n",
    "from sklearn.model_selection import train_test_split\n",
    "\n",
    "from py_boost import GradientBoosting \n",
    "\n",
    "# strategies to deal with multiple outputs\n",
    "from py_boost.multioutput.sketching import *\n",
    "from py_boost.multioutput.target_splitter import *"
   ]
  },
  {
   "cell_type": "markdown",
   "metadata": {},
   "source": [
    "### Download data from openml"
   ]
  },
  {
   "cell_type": "code",
   "execution_count": 2,
   "metadata": {},
   "outputs": [
    {
     "name": "stdout",
     "output_type": "stream",
     "text": [
      "--2021-11-11 03:10:09--  https://www.openml.org/data/get_csv/19335692/file1c556677f875.csv\n",
      "Resolving www.openml.org (www.openml.org)... 131.155.11.11\n",
      "Connecting to www.openml.org (www.openml.org)|131.155.11.11|:443... connected.\n",
      "HTTP request sent, awaiting response... 200 OK\n",
      "Length: unspecified [text/plain]\n",
      "Saving to: ‘data/helena.csv’\n",
      "\n",
      "data/helena.csv         [        <=>         ]  14.56M  9.84MB/s    in 1.5s    \n",
      "\n",
      "2021-11-11 03:10:11 (9.84 MB/s) - ‘data/helena.csv’ saved [15271704]\n",
      "\n"
     ]
    }
   ],
   "source": [
    "!wget https://www.openml.org/data/get_csv/19335692/file1c556677f875.csv -O data/helena.csv"
   ]
  },
  {
   "cell_type": "code",
   "execution_count": 3,
   "metadata": {},
   "outputs": [
    {
     "data": {
      "text/html": [
       "<div>\n",
       "<style scoped>\n",
       "    .dataframe tbody tr th:only-of-type {\n",
       "        vertical-align: middle;\n",
       "    }\n",
       "\n",
       "    .dataframe tbody tr th {\n",
       "        vertical-align: top;\n",
       "    }\n",
       "\n",
       "    .dataframe thead th {\n",
       "        text-align: right;\n",
       "    }\n",
       "</style>\n",
       "<table border=\"1\" class=\"dataframe\">\n",
       "  <thead>\n",
       "    <tr style=\"text-align: right;\">\n",
       "      <th></th>\n",
       "      <th>class</th>\n",
       "      <th>V1</th>\n",
       "      <th>V2</th>\n",
       "      <th>V3</th>\n",
       "      <th>V4</th>\n",
       "      <th>V5</th>\n",
       "      <th>V6</th>\n",
       "      <th>V7</th>\n",
       "      <th>V8</th>\n",
       "      <th>V9</th>\n",
       "      <th>...</th>\n",
       "      <th>V18</th>\n",
       "      <th>V19</th>\n",
       "      <th>V20</th>\n",
       "      <th>V21</th>\n",
       "      <th>V22</th>\n",
       "      <th>V23</th>\n",
       "      <th>V24</th>\n",
       "      <th>V25</th>\n",
       "      <th>V26</th>\n",
       "      <th>V27</th>\n",
       "    </tr>\n",
       "  </thead>\n",
       "  <tbody>\n",
       "    <tr>\n",
       "      <th>0</th>\n",
       "      <td>41</td>\n",
       "      <td>0.005521</td>\n",
       "      <td>0.080556</td>\n",
       "      <td>0.110417</td>\n",
       "      <td>0.490822</td>\n",
       "      <td>0.586406</td>\n",
       "      <td>0.066414</td>\n",
       "      <td>0.092206</td>\n",
       "      <td>0.116352</td>\n",
       "      <td>0.379310</td>\n",
       "      <td>...</td>\n",
       "      <td>-0.342986</td>\n",
       "      <td>78.6894</td>\n",
       "      <td>17.237800</td>\n",
       "      <td>21.504200</td>\n",
       "      <td>14.43730</td>\n",
       "      <td>17.378000</td>\n",
       "      <td>9.61674</td>\n",
       "      <td>-0.609370</td>\n",
       "      <td>1.044830</td>\n",
       "      <td>1.481790</td>\n",
       "    </tr>\n",
       "    <tr>\n",
       "      <th>1</th>\n",
       "      <td>92</td>\n",
       "      <td>0.049398</td>\n",
       "      <td>0.147917</td>\n",
       "      <td>0.541667</td>\n",
       "      <td>0.542865</td>\n",
       "      <td>0.515608</td>\n",
       "      <td>0.105128</td>\n",
       "      <td>0.475550</td>\n",
       "      <td>0.049555</td>\n",
       "      <td>0.383460</td>\n",
       "      <td>...</td>\n",
       "      <td>2.639370</td>\n",
       "      <td>59.7879</td>\n",
       "      <td>5.393410</td>\n",
       "      <td>3.819610</td>\n",
       "      <td>11.49240</td>\n",
       "      <td>3.929470</td>\n",
       "      <td>5.91423</td>\n",
       "      <td>1.409210</td>\n",
       "      <td>4.749540</td>\n",
       "      <td>1.103820</td>\n",
       "    </tr>\n",
       "    <tr>\n",
       "      <th>2</th>\n",
       "      <td>24</td>\n",
       "      <td>0.548663</td>\n",
       "      <td>1.000000</td>\n",
       "      <td>1.000000</td>\n",
       "      <td>0.397029</td>\n",
       "      <td>0.627398</td>\n",
       "      <td>1.023440</td>\n",
       "      <td>1.004220</td>\n",
       "      <td>0.027381</td>\n",
       "      <td>0.451337</td>\n",
       "      <td>...</td>\n",
       "      <td>0.137427</td>\n",
       "      <td>58.1429</td>\n",
       "      <td>-3.365980</td>\n",
       "      <td>-0.037489</td>\n",
       "      <td>10.63470</td>\n",
       "      <td>2.660180</td>\n",
       "      <td>3.93377</td>\n",
       "      <td>-0.898220</td>\n",
       "      <td>2.137790</td>\n",
       "      <td>1.054470</td>\n",
       "    </tr>\n",
       "    <tr>\n",
       "      <th>3</th>\n",
       "      <td>29</td>\n",
       "      <td>0.023073</td>\n",
       "      <td>0.206250</td>\n",
       "      <td>0.238889</td>\n",
       "      <td>0.622998</td>\n",
       "      <td>0.764067</td>\n",
       "      <td>0.202599</td>\n",
       "      <td>0.177892</td>\n",
       "      <td>0.071232</td>\n",
       "      <td>0.531712</td>\n",
       "      <td>...</td>\n",
       "      <td>0.477009</td>\n",
       "      <td>55.4798</td>\n",
       "      <td>-1.051090</td>\n",
       "      <td>-4.755360</td>\n",
       "      <td>13.36710</td>\n",
       "      <td>2.852060</td>\n",
       "      <td>9.65162</td>\n",
       "      <td>0.224397</td>\n",
       "      <td>-0.220216</td>\n",
       "      <td>-0.273287</td>\n",
       "    </tr>\n",
       "    <tr>\n",
       "      <th>4</th>\n",
       "      <td>91</td>\n",
       "      <td>0.224427</td>\n",
       "      <td>0.433333</td>\n",
       "      <td>0.902083</td>\n",
       "      <td>0.814199</td>\n",
       "      <td>0.576879</td>\n",
       "      <td>0.344413</td>\n",
       "      <td>0.822975</td>\n",
       "      <td>0.026121</td>\n",
       "      <td>0.425875</td>\n",
       "      <td>...</td>\n",
       "      <td>0.521306</td>\n",
       "      <td>76.8475</td>\n",
       "      <td>-19.371700</td>\n",
       "      <td>32.270700</td>\n",
       "      <td>9.41442</td>\n",
       "      <td>4.343450</td>\n",
       "      <td>8.67710</td>\n",
       "      <td>-1.587580</td>\n",
       "      <td>1.117870</td>\n",
       "      <td>-0.545338</td>\n",
       "    </tr>\n",
       "    <tr>\n",
       "      <th>...</th>\n",
       "      <td>...</td>\n",
       "      <td>...</td>\n",
       "      <td>...</td>\n",
       "      <td>...</td>\n",
       "      <td>...</td>\n",
       "      <td>...</td>\n",
       "      <td>...</td>\n",
       "      <td>...</td>\n",
       "      <td>...</td>\n",
       "      <td>...</td>\n",
       "      <td>...</td>\n",
       "      <td>...</td>\n",
       "      <td>...</td>\n",
       "      <td>...</td>\n",
       "      <td>...</td>\n",
       "      <td>...</td>\n",
       "      <td>...</td>\n",
       "      <td>...</td>\n",
       "      <td>...</td>\n",
       "      <td>...</td>\n",
       "      <td>...</td>\n",
       "    </tr>\n",
       "    <tr>\n",
       "      <th>65191</th>\n",
       "      <td>88</td>\n",
       "      <td>0.007292</td>\n",
       "      <td>0.152083</td>\n",
       "      <td>0.061111</td>\n",
       "      <td>0.114431</td>\n",
       "      <td>0.406104</td>\n",
       "      <td>0.143170</td>\n",
       "      <td>0.053086</td>\n",
       "      <td>0.129365</td>\n",
       "      <td>0.215442</td>\n",
       "      <td>...</td>\n",
       "      <td>1.265300</td>\n",
       "      <td>53.2951</td>\n",
       "      <td>-1.416430</td>\n",
       "      <td>2.173900</td>\n",
       "      <td>13.66950</td>\n",
       "      <td>1.588520</td>\n",
       "      <td>2.02855</td>\n",
       "      <td>0.619052</td>\n",
       "      <td>0.622377</td>\n",
       "      <td>-0.363035</td>\n",
       "    </tr>\n",
       "    <tr>\n",
       "      <th>65192</th>\n",
       "      <td>77</td>\n",
       "      <td>0.411279</td>\n",
       "      <td>1.000000</td>\n",
       "      <td>0.430556</td>\n",
       "      <td>0.503805</td>\n",
       "      <td>0.207163</td>\n",
       "      <td>1.003740</td>\n",
       "      <td>0.412067</td>\n",
       "      <td>0.017673</td>\n",
       "      <td>0.044771</td>\n",
       "      <td>...</td>\n",
       "      <td>-2.842380</td>\n",
       "      <td>91.1178</td>\n",
       "      <td>-0.009207</td>\n",
       "      <td>-2.224830</td>\n",
       "      <td>1.30504</td>\n",
       "      <td>0.898489</td>\n",
       "      <td>1.80362</td>\n",
       "      <td>-2.726140</td>\n",
       "      <td>-0.184329</td>\n",
       "      <td>-0.476441</td>\n",
       "    </tr>\n",
       "    <tr>\n",
       "      <th>65193</th>\n",
       "      <td>71</td>\n",
       "      <td>0.999352</td>\n",
       "      <td>1.000000</td>\n",
       "      <td>1.000000</td>\n",
       "      <td>0.501360</td>\n",
       "      <td>0.501075</td>\n",
       "      <td>0.999384</td>\n",
       "      <td>0.999414</td>\n",
       "      <td>0.009636</td>\n",
       "      <td>0.000648</td>\n",
       "      <td>...</td>\n",
       "      <td>0.213472</td>\n",
       "      <td>84.4141</td>\n",
       "      <td>2.042450</td>\n",
       "      <td>13.849800</td>\n",
       "      <td>7.24428</td>\n",
       "      <td>1.443890</td>\n",
       "      <td>4.00495</td>\n",
       "      <td>-0.749115</td>\n",
       "      <td>1.025130</td>\n",
       "      <td>0.096257</td>\n",
       "    </tr>\n",
       "    <tr>\n",
       "      <th>65194</th>\n",
       "      <td>24</td>\n",
       "      <td>0.206175</td>\n",
       "      <td>0.383333</td>\n",
       "      <td>0.944444</td>\n",
       "      <td>0.749915</td>\n",
       "      <td>0.550936</td>\n",
       "      <td>0.292477</td>\n",
       "      <td>0.830921</td>\n",
       "      <td>0.033542</td>\n",
       "      <td>0.430515</td>\n",
       "      <td>...</td>\n",
       "      <td>0.879472</td>\n",
       "      <td>61.4110</td>\n",
       "      <td>17.354200</td>\n",
       "      <td>5.566660</td>\n",
       "      <td>16.22600</td>\n",
       "      <td>10.049400</td>\n",
       "      <td>6.04195</td>\n",
       "      <td>0.400956</td>\n",
       "      <td>0.375599</td>\n",
       "      <td>0.644575</td>\n",
       "    </tr>\n",
       "    <tr>\n",
       "      <th>65195</th>\n",
       "      <td>9</td>\n",
       "      <td>0.003096</td>\n",
       "      <td>0.102083</td>\n",
       "      <td>0.066667</td>\n",
       "      <td>0.844969</td>\n",
       "      <td>0.054704</td>\n",
       "      <td>0.091855</td>\n",
       "      <td>0.052645</td>\n",
       "      <td>0.192523</td>\n",
       "      <td>0.545068</td>\n",
       "      <td>...</td>\n",
       "      <td>-1.676500</td>\n",
       "      <td>93.1596</td>\n",
       "      <td>0.559074</td>\n",
       "      <td>-0.852947</td>\n",
       "      <td>8.30315</td>\n",
       "      <td>1.215720</td>\n",
       "      <td>1.28395</td>\n",
       "      <td>-1.889180</td>\n",
       "      <td>2.350320</td>\n",
       "      <td>0.179997</td>\n",
       "    </tr>\n",
       "  </tbody>\n",
       "</table>\n",
       "<p>65196 rows × 28 columns</p>\n",
       "</div>"
      ],
      "text/plain": [
       "       class        V1        V2        V3        V4        V5        V6  \\\n",
       "0         41  0.005521  0.080556  0.110417  0.490822  0.586406  0.066414   \n",
       "1         92  0.049398  0.147917  0.541667  0.542865  0.515608  0.105128   \n",
       "2         24  0.548663  1.000000  1.000000  0.397029  0.627398  1.023440   \n",
       "3         29  0.023073  0.206250  0.238889  0.622998  0.764067  0.202599   \n",
       "4         91  0.224427  0.433333  0.902083  0.814199  0.576879  0.344413   \n",
       "...      ...       ...       ...       ...       ...       ...       ...   \n",
       "65191     88  0.007292  0.152083  0.061111  0.114431  0.406104  0.143170   \n",
       "65192     77  0.411279  1.000000  0.430556  0.503805  0.207163  1.003740   \n",
       "65193     71  0.999352  1.000000  1.000000  0.501360  0.501075  0.999384   \n",
       "65194     24  0.206175  0.383333  0.944444  0.749915  0.550936  0.292477   \n",
       "65195      9  0.003096  0.102083  0.066667  0.844969  0.054704  0.091855   \n",
       "\n",
       "             V7        V8        V9  ...       V18      V19        V20  \\\n",
       "0      0.092206  0.116352  0.379310  ... -0.342986  78.6894  17.237800   \n",
       "1      0.475550  0.049555  0.383460  ...  2.639370  59.7879   5.393410   \n",
       "2      1.004220  0.027381  0.451337  ...  0.137427  58.1429  -3.365980   \n",
       "3      0.177892  0.071232  0.531712  ...  0.477009  55.4798  -1.051090   \n",
       "4      0.822975  0.026121  0.425875  ...  0.521306  76.8475 -19.371700   \n",
       "...         ...       ...       ...  ...       ...      ...        ...   \n",
       "65191  0.053086  0.129365  0.215442  ...  1.265300  53.2951  -1.416430   \n",
       "65192  0.412067  0.017673  0.044771  ... -2.842380  91.1178  -0.009207   \n",
       "65193  0.999414  0.009636  0.000648  ...  0.213472  84.4141   2.042450   \n",
       "65194  0.830921  0.033542  0.430515  ...  0.879472  61.4110  17.354200   \n",
       "65195  0.052645  0.192523  0.545068  ... -1.676500  93.1596   0.559074   \n",
       "\n",
       "             V21       V22        V23      V24       V25       V26       V27  \n",
       "0      21.504200  14.43730  17.378000  9.61674 -0.609370  1.044830  1.481790  \n",
       "1       3.819610  11.49240   3.929470  5.91423  1.409210  4.749540  1.103820  \n",
       "2      -0.037489  10.63470   2.660180  3.93377 -0.898220  2.137790  1.054470  \n",
       "3      -4.755360  13.36710   2.852060  9.65162  0.224397 -0.220216 -0.273287  \n",
       "4      32.270700   9.41442   4.343450  8.67710 -1.587580  1.117870 -0.545338  \n",
       "...          ...       ...        ...      ...       ...       ...       ...  \n",
       "65191   2.173900  13.66950   1.588520  2.02855  0.619052  0.622377 -0.363035  \n",
       "65192  -2.224830   1.30504   0.898489  1.80362 -2.726140 -0.184329 -0.476441  \n",
       "65193  13.849800   7.24428   1.443890  4.00495 -0.749115  1.025130  0.096257  \n",
       "65194   5.566660  16.22600  10.049400  6.04195  0.400956  0.375599  0.644575  \n",
       "65195  -0.852947   8.30315   1.215720  1.28395 -1.889180  2.350320  0.179997  \n",
       "\n",
       "[65196 rows x 28 columns]"
      ]
     },
     "execution_count": 3,
     "metadata": {},
     "output_type": "execute_result"
    }
   ],
   "source": [
    "data = pd.read_csv('data/helena.csv')\n",
    "\n",
    "data"
   ]
  },
  {
   "cell_type": "code",
   "execution_count": 4,
   "metadata": {},
   "outputs": [
    {
     "data": {
      "text/plain": [
       "78    4005\n",
       "55    3063\n",
       "40    2992\n",
       "39    2623\n",
       "38    2216\n",
       "      ... \n",
       "56     121\n",
       "75     121\n",
       "32     119\n",
       "34     116\n",
       "10     111\n",
       "Name: class, Length: 100, dtype: int64"
      ]
     },
     "execution_count": 4,
     "metadata": {},
     "output_type": "execute_result"
    }
   ],
   "source": [
    "data['class'].value_counts()"
   ]
  },
  {
   "cell_type": "markdown",
   "metadata": {},
   "source": [
    "#### Looks like we have 100 classes here ..."
   ]
  },
  {
   "cell_type": "code",
   "execution_count": 5,
   "metadata": {},
   "outputs": [],
   "source": [
    "X = data.drop('class', axis=1).values.astype('float32')\n",
    "y = data['class'].values.astype('int32')\n",
    "\n",
    "X, X_test, y, y_test = train_test_split(X, y, test_size=0.2, random_state=42, shuffle=True)"
   ]
  },
  {
   "cell_type": "markdown",
   "metadata": {},
   "source": [
    "### Train multiclass model\n",
    "\n",
    "Simple usecase for training multiclass is the same as for regression. By default py_boost builds multioutout trees to handle multioutput problems, single tree outputs a vector of length 100 for 100 class task\n"
   ]
  },
  {
   "cell_type": "code",
   "execution_count": 6,
   "metadata": {},
   "outputs": [
    {
     "name": "stdout",
     "output_type": "stream",
     "text": [
      "[03:10:13] Stdout logging level is INFO.\n",
      "[03:10:13] GDBT train starts. Max iter 10000, early stopping rounds 300\n",
      "[03:10:13] Iter 0; Sample 0, Crossentropy = 4.3048272133052015; \n",
      "[03:10:17] Iter 100; Sample 0, Crossentropy = 2.861118313424075; \n",
      "[03:10:21] Iter 200; Sample 0, Crossentropy = 2.7282271821664423; \n",
      "[03:10:26] Iter 300; Sample 0, Crossentropy = 2.6778634096094738; \n",
      "[03:10:30] Iter 400; Sample 0, Crossentropy = 2.650289255702367; \n",
      "[03:10:35] Iter 500; Sample 0, Crossentropy = 2.6342463294280942; \n",
      "[03:10:40] Iter 600; Sample 0, Crossentropy = 2.6234859605890155; \n",
      "[03:10:44] Iter 700; Sample 0, Crossentropy = 2.615059676634403; \n",
      "[03:10:49] Iter 800; Sample 0, Crossentropy = 2.6071631379546325; \n",
      "[03:10:53] Iter 900; Sample 0, Crossentropy = 2.600936181754179; \n",
      "[03:10:58] Iter 1000; Sample 0, Crossentropy = 2.5963903735180125; \n",
      "[03:11:03] Iter 1100; Sample 0, Crossentropy = 2.5918323999508037; \n",
      "[03:11:07] Iter 1200; Sample 0, Crossentropy = 2.588358199849226; \n",
      "[03:11:12] Iter 1300; Sample 0, Crossentropy = 2.5853568378064833; \n",
      "[03:11:16] Iter 1400; Sample 0, Crossentropy = 2.5830236061186005; \n",
      "[03:11:21] Iter 1500; Sample 0, Crossentropy = 2.580861736012961; \n",
      "[03:11:25] Iter 1600; Sample 0, Crossentropy = 2.5793999020881775; \n",
      "[03:11:30] Iter 1700; Sample 0, Crossentropy = 2.5782946985627344; \n",
      "[03:11:35] Iter 1800; Sample 0, Crossentropy = 2.5773366224610865; \n",
      "[03:11:39] Iter 1900; Sample 0, Crossentropy = 2.5766674755896632; \n",
      "[03:11:44] Iter 2000; Sample 0, Crossentropy = 2.5762704413766673; \n",
      "[03:11:48] Iter 2100; Sample 0, Crossentropy = 2.5760827884324544; \n",
      "[03:11:53] Iter 2200; Sample 0, Crossentropy = 2.575624206034291; \n",
      "[03:11:57] Iter 2300; Sample 0, Crossentropy = 2.575425796511399; \n",
      "[03:12:02] Iter 2400; Sample 0, Crossentropy = 2.5755983364141968; \n",
      "[03:12:07] Iter 2500; Sample 0, Crossentropy = 2.5759167694489196; \n",
      "[03:12:11] Iter 2600; Sample 0, Crossentropy = 2.5764381603419197; \n",
      "[03:12:12] Early stopping at iter 2617, best iter 2317, best_score 2.575398119905252\n",
      "CPU times: user 1min 42s, sys: 19.2 s, total: 2min 1s\n",
      "Wall time: 2min\n"
     ]
    },
    {
     "data": {
      "text/plain": [
       "<py_boost.gpu.boosting.GradientBoosting at 0x7fdd779fea90>"
      ]
     },
     "execution_count": 6,
     "metadata": {},
     "output_type": "execute_result"
    }
   ],
   "source": [
    "%%time\n",
    "model = GradientBoosting('crossentropy',\n",
    "                         ntrees=10000, lr=0.03, verbose=100, es=300, lambda_l2=1,\n",
    "                         subsample=1, colsample=1, min_data_in_leaf=10,\n",
    "                         max_bin=256, max_depth=6)\n",
    "\n",
    "model.fit(X, y, \n",
    "          eval_sets = [{'X': X_test, 'y': y_test}])"
   ]
  },
  {
   "cell_type": "code",
   "execution_count": 7,
   "metadata": {},
   "outputs": [
    {
     "name": "stdout",
     "output_type": "stream",
     "text": [
      "CPU times: user 1.96 s, sys: 736 ms, total: 2.69 s\n",
      "Wall time: 2.69 s\n"
     ]
    },
    {
     "data": {
      "text/plain": [
       "(13040, 100)"
      ]
     },
     "execution_count": 7,
     "metadata": {},
     "output_type": "execute_result"
    }
   ],
   "source": [
    "%%time\n",
    "pred = model.predict(X_test)\n",
    "\n",
    "pred.shape"
   ]
  },
  {
   "cell_type": "markdown",
   "metadata": {},
   "source": [
    "### Sketching strategies to speedup training\n",
    "\n",
    "Training multioutput models is more time consuming than single output. That's why we implement few strategies to simplify tree structure search via gradinet matrix sketching:\n",
    "\n",
    "* ***RandomSamplingSketch*** (recommended)\n",
    "* ***TopOutputsSketch***\n",
    "* ***SVDSketch*** (needs RAPIDS (cuml) to be installed)\n",
    "\n",
    "Let's check, how it works"
   ]
  },
  {
   "cell_type": "code",
   "execution_count": 8,
   "metadata": {},
   "outputs": [
    {
     "name": "stdout",
     "output_type": "stream",
     "text": [
      "[03:12:15] Stdout logging level is INFO.\n",
      "[03:12:15] GDBT train starts. Max iter 10000, early stopping rounds 300\n",
      "[03:12:15] Iter 0; Sample 0, Crossentropy = 4.36672978708813; \n",
      "[03:12:16] Iter 100; Sample 0, Crossentropy = 2.900780767991263; \n",
      "[03:12:18] Iter 200; Sample 0, Crossentropy = 2.7606439456349694; \n",
      "[03:12:19] Iter 300; Sample 0, Crossentropy = 2.700749634336184; \n",
      "[03:12:20] Iter 400; Sample 0, Crossentropy = 2.6669122496840765; \n",
      "[03:12:22] Iter 500; Sample 0, Crossentropy = 2.643409104312327; \n",
      "[03:12:23] Iter 600; Sample 0, Crossentropy = 2.6286258707153114; \n",
      "[03:12:25] Iter 700; Sample 0, Crossentropy = 2.6165776897853523; \n",
      "[03:12:26] Iter 800; Sample 0, Crossentropy = 2.60684161177947; \n",
      "[03:12:27] Iter 900; Sample 0, Crossentropy = 2.5987716251359774; \n",
      "[03:12:29] Iter 1000; Sample 0, Crossentropy = 2.5918193315402154; \n",
      "[03:12:30] Iter 1100; Sample 0, Crossentropy = 2.587307146141814; \n",
      "[03:12:32] Iter 1200; Sample 0, Crossentropy = 2.5825257239125805; \n",
      "[03:12:33] Iter 1300; Sample 0, Crossentropy = 2.57883306440644; \n",
      "[03:12:35] Iter 1400; Sample 0, Crossentropy = 2.575332496116237; \n",
      "[03:12:36] Iter 1500; Sample 0, Crossentropy = 2.5722029354944485; \n",
      "[03:12:37] Iter 1600; Sample 0, Crossentropy = 2.569966283413493; \n",
      "[03:12:39] Iter 1700; Sample 0, Crossentropy = 2.56677709284207; \n",
      "[03:12:40] Iter 1800; Sample 0, Crossentropy = 2.5647539959307837; \n",
      "[03:12:42] Iter 1900; Sample 0, Crossentropy = 2.5630880706855383; \n",
      "[03:12:43] Iter 2000; Sample 0, Crossentropy = 2.5622535183642414; \n",
      "[03:12:45] Iter 2100; Sample 0, Crossentropy = 2.5606328704138392; \n",
      "[03:12:46] Iter 2200; Sample 0, Crossentropy = 2.5594962558230288; \n",
      "[03:12:47] Iter 2300; Sample 0, Crossentropy = 2.5585113634088397; \n",
      "[03:12:49] Iter 2400; Sample 0, Crossentropy = 2.5579795083437022; \n",
      "[03:12:50] Iter 2500; Sample 0, Crossentropy = 2.5572689767718955; \n",
      "[03:12:52] Iter 2600; Sample 0, Crossentropy = 2.5570918261710918; \n",
      "[03:12:53] Iter 2700; Sample 0, Crossentropy = 2.556937216780858; \n",
      "[03:12:55] Iter 2800; Sample 0, Crossentropy = 2.557063917544081; \n",
      "[03:12:56] Iter 2900; Sample 0, Crossentropy = 2.556825640593424; \n",
      "[03:12:58] Iter 3000; Sample 0, Crossentropy = 2.5573421688137175; \n",
      "[03:12:58] Early stopping at iter 3027, best iter 2727, best_score 2.5567718205728203\n",
      "CPU times: user 41 s, sys: 2.84 s, total: 43.8 s\n",
      "Wall time: 43.2 s\n"
     ]
    },
    {
     "data": {
      "text/plain": [
       "<py_boost.gpu.boosting.GradientBoosting at 0x7fdd7806a4f0>"
      ]
     },
     "execution_count": 8,
     "metadata": {},
     "output_type": "execute_result"
    }
   ],
   "source": [
    "%%time\n",
    "\n",
    "sketch = RandomSamplingSketch(10)\n",
    "\n",
    "model = GradientBoosting('crossentropy',\n",
    "                         ntrees=10000, lr=0.03, verbose=100, es=300, lambda_l2=1,\n",
    "                         subsample=1, colsample=1, min_data_in_leaf=10,\n",
    "                         max_bin=256, max_depth=6,\n",
    "                         multioutput_sketch=sketch\n",
    "                        )\n",
    "\n",
    "model.fit(X, y, eval_sets = [{'X': X_test, 'y': y_test}])"
   ]
  },
  {
   "cell_type": "code",
   "execution_count": 9,
   "metadata": {},
   "outputs": [
    {
     "data": {
      "text/plain": [
       "(13040, 100)"
      ]
     },
     "execution_count": 9,
     "metadata": {},
     "output_type": "execute_result"
    }
   ],
   "source": [
    "pred = model.predict(X_test)\n",
    "pred.shape"
   ]
  },
  {
   "cell_type": "markdown",
   "metadata": {},
   "source": [
    "#### Nice speed up and some times even better accuracy !\n",
    "\n",
    "#### Its even faster than catboost with close to the same setup :)"
   ]
  },
  {
   "cell_type": "code",
   "execution_count": 10,
   "metadata": {},
   "outputs": [
    {
     "name": "stdout",
     "output_type": "stream",
     "text": [
      "0:\tlearn: 4.2940499\ttest: 4.3045904\tbest: 4.3045904 (0)\ttotal: 41.1ms\tremaining: 6m 51s\n",
      "100:\tlearn: 2.7026067\ttest: 2.8639822\tbest: 2.8639822 (100)\ttotal: 3.81s\tremaining: 6m 13s\n",
      "200:\tlearn: 2.4526127\ttest: 2.7287553\tbest: 2.7287553 (200)\ttotal: 7.35s\tremaining: 5m 58s\n",
      "300:\tlearn: 2.3213711\ttest: 2.6789287\tbest: 2.6789287 (300)\ttotal: 10.8s\tremaining: 5m 46s\n",
      "400:\tlearn: 2.2232473\ttest: 2.6516266\tbest: 2.6516266 (400)\ttotal: 14.1s\tremaining: 5m 38s\n",
      "500:\tlearn: 2.1449559\ttest: 2.6351176\tbest: 2.6351176 (500)\ttotal: 17.4s\tremaining: 5m 29s\n",
      "600:\tlearn: 2.0773085\ttest: 2.6237371\tbest: 2.6237371 (600)\ttotal: 20.6s\tremaining: 5m 21s\n",
      "700:\tlearn: 2.0146058\ttest: 2.6149348\tbest: 2.6149318 (699)\ttotal: 23.7s\tremaining: 5m 15s\n",
      "800:\tlearn: 1.9531144\ttest: 2.6072940\tbest: 2.6072838 (799)\ttotal: 26.9s\tremaining: 5m 9s\n",
      "900:\tlearn: 1.8969737\ttest: 2.6016197\tbest: 2.6016197 (900)\ttotal: 30.1s\tremaining: 5m 4s\n",
      "1000:\tlearn: 1.8410818\ttest: 2.5963367\tbest: 2.5963367 (1000)\ttotal: 33.3s\tremaining: 4m 59s\n",
      "1100:\tlearn: 1.7884030\ttest: 2.5926048\tbest: 2.5926048 (1100)\ttotal: 36.6s\tremaining: 4m 55s\n",
      "1200:\tlearn: 1.7363572\ttest: 2.5891224\tbest: 2.5891224 (1200)\ttotal: 39.8s\tremaining: 4m 51s\n",
      "1300:\tlearn: 1.6876309\ttest: 2.5862323\tbest: 2.5862323 (1300)\ttotal: 43s\tremaining: 4m 47s\n",
      "1400:\tlearn: 1.6391247\ttest: 2.5840865\tbest: 2.5840494 (1399)\ttotal: 46.2s\tremaining: 4m 43s\n",
      "1500:\tlearn: 1.5954437\ttest: 2.5822574\tbest: 2.5822574 (1500)\ttotal: 49.3s\tremaining: 4m 39s\n",
      "1600:\tlearn: 1.5487282\ttest: 2.5805571\tbest: 2.5805140 (1596)\ttotal: 52.5s\tremaining: 4m 35s\n",
      "1700:\tlearn: 1.5048330\ttest: 2.5793172\tbest: 2.5793172 (1700)\ttotal: 55.6s\tremaining: 4m 31s\n",
      "1800:\tlearn: 1.4619291\ttest: 2.5782487\tbest: 2.5781924 (1796)\ttotal: 58.8s\tremaining: 4m 27s\n",
      "1900:\tlearn: 1.4215625\ttest: 2.5770448\tbest: 2.5770094 (1895)\ttotal: 1m 1s\tremaining: 4m 24s\n",
      "2000:\tlearn: 1.3810520\ttest: 2.5762947\tbest: 2.5762947 (2000)\ttotal: 1m 5s\tremaining: 4m 20s\n",
      "2100:\tlearn: 1.3412725\ttest: 2.5753265\tbest: 2.5753265 (2100)\ttotal: 1m 8s\tremaining: 4m 17s\n",
      "2200:\tlearn: 1.3069092\ttest: 2.5754083\tbest: 2.5752642 (2111)\ttotal: 1m 11s\tremaining: 4m 13s\n",
      "2300:\tlearn: 1.2680844\ttest: 2.5749530\tbest: 2.5749104 (2292)\ttotal: 1m 14s\tremaining: 4m 10s\n",
      "2400:\tlearn: 1.2329424\ttest: 2.5745540\tbest: 2.5745090 (2393)\ttotal: 1m 17s\tremaining: 4m 6s\n",
      "2500:\tlearn: 1.1996897\ttest: 2.5750626\tbest: 2.5744350 (2440)\ttotal: 1m 21s\tremaining: 4m 3s\n",
      "2600:\tlearn: 1.1656657\ttest: 2.5749584\tbest: 2.5744350 (2440)\ttotal: 1m 24s\tremaining: 3m 59s\n",
      "2700:\tlearn: 1.1336638\ttest: 2.5751609\tbest: 2.5744350 (2440)\ttotal: 1m 27s\tremaining: 3m 56s\n",
      "bestTest = 2.574435032\n",
      "bestIteration = 2440\n",
      "Shrink model to first 2441 iterations.\n",
      "CPU times: user 2min 44s, sys: 44.3 s, total: 3min 29s\n",
      "Wall time: 1min 29s\n"
     ]
    },
    {
     "data": {
      "text/plain": [
       "<catboost.core.CatBoostClassifier at 0x7fdf58336040>"
      ]
     },
     "execution_count": 10,
     "metadata": {},
     "output_type": "execute_result"
    }
   ],
   "source": [
    "%%time\n",
    "from catboost import CatBoostClassifier\n",
    "\n",
    "model = CatBoostClassifier(\n",
    "                       grow_policy='Depthwise', \n",
    "                       bootstrap_type='Bernoulli',\n",
    "                       subsample=1.,\n",
    "                       border_count=256, \n",
    "                       iterations=10000, \n",
    "                       od_wait=300,\n",
    "                       max_depth=6, \n",
    "                       devices='0:0', \n",
    "                       learning_rate=0.03, \n",
    "                       l2_leaf_reg=1, \n",
    "                       min_data_in_leaf=10, \n",
    "                       score_function='L2',\n",
    "                       model_shrink_mode='Constant',\n",
    "                       **{'task_type': 'GPU', 'verbose': 100, }\n",
    "                    )\n",
    "\n",
    "model.fit(X, y, eval_set = (X_test, y_test))    "
   ]
  },
  {
   "cell_type": "markdown",
   "metadata": {},
   "source": [
    "### Target splitting strategies\n",
    "\n",
    "As it was mentioned above, py_boost builds a single tree for all outputs. Commonly its recommended strategy, but there are some options. Here are possible strategies:\n",
    "\n",
    "* ***'Single'*** stands for default strategy\n",
    "* ***'OneVsAll'*** (not recommended) stands for building separate trees for the each output\n",
    "* ***RandomGroupsSplitter*** (experimental) randomly groups the outputs at the each iteration and build a tree per group. For example, you can build 3 trees predicting 100 classes\n",
    "* ***Custom*** build your own strategy to split outputs to the groups\n",
    "\n",
    "#### Now, let's try to check RandomGroupsSplitter together with the sketching "
   ]
  },
  {
   "cell_type": "code",
   "execution_count": 11,
   "metadata": {},
   "outputs": [
    {
     "name": "stdout",
     "output_type": "stream",
     "text": [
      "[03:14:31] Stdout logging level is INFO.\n",
      "[03:14:31] GDBT train starts. Max iter 10000, early stopping rounds 300\n",
      "[03:14:31] Iter 0; Sample 0, Crossentropy = 4.32698038298462; \n",
      "[03:14:35] Iter 100; Sample 0, Crossentropy = 2.8532840522403506; \n",
      "[03:14:39] Iter 200; Sample 0, Crossentropy = 2.727036329549456; \n",
      "[03:14:43] Iter 300; Sample 0, Crossentropy = 2.6746698540305776; \n",
      "[03:14:47] Iter 400; Sample 0, Crossentropy = 2.646433247863518; \n",
      "[03:14:51] Iter 500; Sample 0, Crossentropy = 2.6275252474157638; \n",
      "[03:14:55] Iter 600; Sample 0, Crossentropy = 2.614278060267745; \n",
      "[03:14:59] Iter 700; Sample 0, Crossentropy = 2.60369742806435; \n",
      "[03:15:03] Iter 800; Sample 0, Crossentropy = 2.5962074316917985; \n",
      "[03:15:06] Iter 900; Sample 0, Crossentropy = 2.589461930646581; \n",
      "[03:15:10] Iter 1000; Sample 0, Crossentropy = 2.58452233957608; \n",
      "[03:15:14] Iter 1100; Sample 0, Crossentropy = 2.580134470134513; \n",
      "[03:15:18] Iter 1200; Sample 0, Crossentropy = 2.575955113323579; \n",
      "[03:15:22] Iter 1300; Sample 0, Crossentropy = 2.5725007886960745; \n",
      "[03:15:26] Iter 1400; Sample 0, Crossentropy = 2.5694333505241063; \n",
      "[03:15:30] Iter 1500; Sample 0, Crossentropy = 2.5672666980125034; \n",
      "[03:15:34] Iter 1600; Sample 0, Crossentropy = 2.5653725390919546; \n",
      "[03:15:38] Iter 1700; Sample 0, Crossentropy = 2.5635642597137767; \n",
      "[03:15:42] Iter 1800; Sample 0, Crossentropy = 2.5623919947723013; \n",
      "[03:15:46] Iter 1900; Sample 0, Crossentropy = 2.5613487010165414; \n",
      "[03:15:50] Iter 2000; Sample 0, Crossentropy = 2.560933157613332; \n",
      "[03:15:54] Iter 2100; Sample 0, Crossentropy = 2.560335610753439; \n",
      "[03:15:58] Iter 2200; Sample 0, Crossentropy = 2.5599820076777857; \n",
      "[03:16:02] Iter 2300; Sample 0, Crossentropy = 2.5597089905757713; \n",
      "[03:16:06] Iter 2400; Sample 0, Crossentropy = 2.559664143071484; \n",
      "[03:16:10] Iter 2500; Sample 0, Crossentropy = 2.560264336926258; \n",
      "[03:16:12] Early stopping at iter 2565, best iter 2265, best_score 2.55956392107958\n",
      "CPU times: user 1min 38s, sys: 4.47 s, total: 1min 42s\n",
      "Wall time: 1min 41s\n"
     ]
    },
    {
     "data": {
      "text/plain": [
       "<py_boost.gpu.boosting.GradientBoosting at 0x7fdd77a23ee0>"
      ]
     },
     "execution_count": 11,
     "metadata": {},
     "output_type": "execute_result"
    }
   ],
   "source": [
    "%%time\n",
    "\n",
    "splitter = RandomGroupsSplitter(3)\n",
    "sketch = RandomSamplingSketch(10)\n",
    "\n",
    "model = GradientBoosting('crossentropy',\n",
    "                         ntrees=10000, lr=0.03, verbose=100, es=300, lambda_l2=1,\n",
    "                         subsample=1, colsample=1, min_data_in_leaf=10,\n",
    "                         max_bin=256, max_depth=6,\n",
    "                         multioutput_sketch=sketch,\n",
    "                         target_splitter=splitter\n",
    "                        )\n",
    "\n",
    "model.fit(X, y, eval_sets = [{'X': X_test, 'y': y_test}])"
   ]
  },
  {
   "cell_type": "markdown",
   "metadata": {},
   "source": [
    "#### Didn't improve the score, but at least we could try :)"
   ]
  }
 ],
 "metadata": {
  "kernelspec": {
   "display_name": "Anaconda_py38",
   "language": "python",
   "name": "anaconda_py38"
  },
  "language_info": {
   "codemirror_mode": {
    "name": "ipython",
    "version": 3
   },
   "file_extension": ".py",
   "mimetype": "text/x-python",
   "name": "python",
   "nbconvert_exporter": "python",
   "pygments_lexer": "ipython3",
   "version": "3.8.5"
  }
 },
 "nbformat": 4,
 "nbformat_minor": 2
}
