{
 "cells": [
  {
   "cell_type": "markdown",
   "metadata": {},
   "source": [
    "## The simpliest usage example of py_boost"
   ]
  },
  {
   "cell_type": "markdown",
   "metadata": {},
   "source": [
    "### Installation (if needed)\n",
    "\n",
    "**Note**: replace cupy-cuda110 with your cuda version!!!"
   ]
  },
  {
   "cell_type": "code",
   "execution_count": 1,
   "metadata": {},
   "outputs": [],
   "source": [
    "# !pip install cupy-cuda110 py-boost"
   ]
  },
  {
   "cell_type": "markdown",
   "metadata": {},
   "source": [
    "### Imports"
   ]
  },
  {
   "cell_type": "code",
   "execution_count": 2,
   "metadata": {},
   "outputs": [],
   "source": [
    "import os\n",
    "# Optional: set the device to run\n",
    "os.environ[\"CUDA_DEVICE_ORDER\"] = \"PCI_BUS_ID\"\n",
    "os.environ[\"CUDA_VISIBLE_DEVICES\"] = \"0\"\n",
    "\n",
    "os.makedirs('../data', exist_ok=True)\n",
    "\n",
    "import joblib\n",
    "from sklearn.datasets import make_regression\n",
    "\n",
    "# simple case - just one class is used\n",
    "from py_boost import GradientBoosting "
   ]
  },
  {
   "cell_type": "markdown",
   "metadata": {},
   "source": [
    "### Generation of dummy regression data"
   ]
  },
  {
   "cell_type": "code",
   "execution_count": 3,
   "metadata": {},
   "outputs": [
    {
     "name": "stdout",
     "output_type": "stream",
     "text": [
      "CPU times: user 1.88 s, sys: 1.3 s, total: 3.19 s\n",
      "Wall time: 829 ms\n"
     ]
    }
   ],
   "source": [
    "%%time\n",
    "X, y = make_regression(150000, 100, n_targets=10, random_state=42)\n",
    "X_test, y_test = X[:50000], y[:50000]\n",
    "X, y = X[-50000:], y[-50000:]"
   ]
  },
  {
   "cell_type": "markdown",
   "metadata": {},
   "source": [
    "### Training a GBDT model\n",
    "\n",
    "The only argument required here is a loss function. It, together with the input target shape, determines the task type. The loss function can be passed as a Loss instance or using a string alias:\n",
    "\n",
    "* ***'mse'*** for the regression/multitask regression\n",
    "* ***'msle'*** for the regression/multitask regression\n",
    "* ***'bce'*** for the binary/multilabel classification\n",
    "* ***'crossentropy'*** for the multiclassification\n",
    "\n",
    "Training is simply done by calling the .fit metod. Possible argumentsare the following:\n",
    "\n",
    "* ***'X'*** \n",
    "* ***'y'*** \n",
    "* ***'sample_weight'*** \n",
    "* ***'eval_sets'***  \n",
    "A validation set is passed as a list of dicts with possible keys ['X', 'y', 'sample_weight']. Note: if multiple valid sets are passed, the best model is selected using the last one.\n",
    "\n",
    "#### The example below illustrates how to train a simple regression task."
   ]
  },
  {
   "cell_type": "code",
   "execution_count": 4,
   "metadata": {},
   "outputs": [
    {
     "name": "stdout",
     "output_type": "stream",
     "text": [
      "[09:41:29] Stdout logging level is INFO.\n",
      "[09:41:29] GDBT train starts. Max iter 100, early stopping rounds 100\n",
      "[09:41:29] Iter 0; Sample 0, rmse = 173.6750220764608; \n",
      "[09:41:29] Iter 10; Sample 0, rmse = 133.1954898620719; \n",
      "[09:41:29] Iter 20; Sample 0, rmse = 107.86658300143122; \n",
      "[09:41:29] Iter 30; Sample 0, rmse = 90.08216999114677; \n",
      "[09:41:29] Iter 40; Sample 0, rmse = 76.44548323474514; \n",
      "[09:41:29] Iter 50; Sample 0, rmse = 65.61048065141752; \n",
      "[09:41:30] Iter 60; Sample 0, rmse = 56.80157577360109; \n",
      "[09:41:30] Iter 70; Sample 0, rmse = 49.57707316105171; \n",
      "[09:41:30] Iter 80; Sample 0, rmse = 43.60320091852412; \n",
      "[09:41:30] Iter 90; Sample 0, rmse = 38.69696218785459; \n",
      "[09:41:30] Iter 99; Sample 0, rmse = 34.99120585299892; \n",
      "CPU times: user 4.04 s, sys: 814 ms, total: 4.85 s\n",
      "Wall time: 3.63 s\n"
     ]
    },
    {
     "data": {
      "text/plain": [
       "<py_boost.gpu.boosting.GradientBoosting at 0x7f506829dee0>"
      ]
     },
     "execution_count": 4,
     "metadata": {},
     "output_type": "execute_result"
    }
   ],
   "source": [
    "%%time\n",
    "model = GradientBoosting('mse')\n",
    "\n",
    "model.fit(X, y[:, 0], eval_sets=[{'X': X_test, 'y': y_test[:, 0]},])"
   ]
  },
  {
   "cell_type": "markdown",
   "metadata": {},
   "source": [
    "### Traininig a GBDT model in a multiregression case\n",
    "\n",
    "Each of built-in loss functions has its own default metric, so metric definition is optional. \n",
    "If you need to specify the evaluation metric, you can pass a Metric instance or use a string alias.\n",
    "\n",
    "#### Default metrics:\n",
    "\n",
    "* ***'rmse'*** is the default for the ***'mse'*** loss\n",
    "* ***'rmsle'*** is the default for the  ***'msle'*** loss\n",
    "* ***'bce'*** is the default for the ***'bce'*** loss\n",
    "* ***'crossentropy'*** is the default for the ***'crossentropy'*** loss\n",
    "\n",
    "#### Non-default metrics:\n",
    "\n",
    "* ***'r2'*** for the regression/multitask regression\n",
    "* ***'auc'*** for the binary classification\n",
    "* ***'accuracy'*** for any classification task\n",
    "* ***'precision'*** for any classification task\n",
    "* ***'recall'*** for any classification task\n",
    "* ***'f1'*** for any classification task\n",
    "\n",
    "It is possible to specify other common GBDT hyperparameters as shown below.\n",
    "\n",
    "#### The following example demonstrates how to train a model for a multioutput regression task (no extra definition needed to switch the task to multioutput one, you just need to pass a multidimensional target)."
   ]
  },
  {
   "cell_type": "code",
   "execution_count": 5,
   "metadata": {},
   "outputs": [
    {
     "name": "stdout",
     "output_type": "stream",
     "text": [
      "[09:41:30] Stdout logging level is INFO.\n",
      "[09:41:30] GDBT train starts. Max iter 1000, early stopping rounds 200\n",
      "[09:41:30] Iter 0; Sample 0, R2_score = 0.00838493389477495; \n",
      "[09:41:33] Iter 100; Sample 0, R2_score = 0.5168165390880501; \n",
      "[09:41:35] Iter 200; Sample 0, R2_score = 0.7243208313385177; \n",
      "[09:41:37] Iter 300; Sample 0, R2_score = 0.8328614385331654; \n",
      "[09:41:39] Iter 400; Sample 0, R2_score = 0.8949967440653801; \n",
      "[09:41:41] Iter 500; Sample 0, R2_score = 0.9320127030761451; \n",
      "[09:41:43] Iter 600; Sample 0, R2_score = 0.9546913138388898; \n",
      "[09:41:45] Iter 700; Sample 0, R2_score = 0.9687615526168845; \n",
      "[09:41:47] Iter 800; Sample 0, R2_score = 0.9776369907528174; \n",
      "[09:41:50] Iter 900; Sample 0, R2_score = 0.9833275841564569; \n",
      "[09:41:52] Iter 999; Sample 0, R2_score = 0.9870190620496355; \n",
      "CPU times: user 20.1 s, sys: 2.95 s, total: 23.1 s\n",
      "Wall time: 21.9 s\n"
     ]
    },
    {
     "data": {
      "text/plain": [
       "<py_boost.gpu.boosting.GradientBoosting at 0x7f4dfd803130>"
      ]
     },
     "execution_count": 5,
     "metadata": {},
     "output_type": "execute_result"
    }
   ],
   "source": [
    "%%time\n",
    "model = GradientBoosting('mse', 'r2_score',\n",
    "                         ntrees=1000, lr=.01, verbose=100, es=200, lambda_l2=1,\n",
    "                         subsample=.8, colsample=.8, min_data_in_leaf=10, min_gain_to_split=0, \n",
    "                         max_bin=256, max_depth=6)\n",
    "\n",
    "model.fit(X, y, eval_sets=[{'X': X_test, 'y': y_test},])"
   ]
  },
  {
   "cell_type": "markdown",
   "metadata": {},
   "source": [
    "## Inference\n",
    "\n",
    "#### Prediction can be done via calling the .predict method"
   ]
  },
  {
   "cell_type": "code",
   "execution_count": 6,
   "metadata": {},
   "outputs": [
    {
     "name": "stdout",
     "output_type": "stream",
     "text": [
      "CPU times: user 1 s, sys: 481 ms, total: 1.48 s\n",
      "Wall time: 1.5 s\n"
     ]
    },
    {
     "data": {
      "text/plain": [
       "(50000, 10)"
      ]
     },
     "execution_count": 6,
     "metadata": {},
     "output_type": "execute_result"
    }
   ],
   "source": [
    "%%time\n",
    "preds = model.predict(X_test)\n",
    "\n",
    "preds.shape"
   ]
  },
  {
   "cell_type": "code",
   "execution_count": 7,
   "metadata": {},
   "outputs": [
    {
     "data": {
      "text/plain": [
       "array([[-240.17752 , -145.03291 , -275.28513 , ..., -137.55057 ,\n",
       "        -210.75629 , -233.15964 ],\n",
       "       [-113.514046, -114.34615 ,  -58.754765, ..., -127.49755 ,\n",
       "        -116.32571 ,  -21.29363 ],\n",
       "       [ -35.181435,  -55.067272,  142.86133 , ...,   20.998077,\n",
       "         -21.99269 , -208.16821 ],\n",
       "       ...,\n",
       "       [ -80.83802 ,  133.6094  ,   85.85005 , ...,  225.99036 ,\n",
       "          36.656986,   13.258009],\n",
       "       [  -5.558326,  141.5677  ,  251.22258 , ...,  153.28246 ,\n",
       "         179.13031 ,  210.6762  ],\n",
       "       [ -25.74225 ,   29.600954,  164.6824  , ...,   89.410904,\n",
       "          18.127083,   -0.798545]], dtype=float32)"
      ]
     },
     "execution_count": 7,
     "metadata": {},
     "output_type": "execute_result"
    }
   ],
   "source": [
    "preds"
   ]
  },
  {
   "cell_type": "markdown",
   "metadata": {},
   "source": [
    "#### Prediction for certan iterations can be done via calling the .predict_staged method"
   ]
  },
  {
   "cell_type": "code",
   "execution_count": 8,
   "metadata": {},
   "outputs": [
    {
     "name": "stdout",
     "output_type": "stream",
     "text": [
      "CPU times: user 255 ms, sys: 219 ms, total: 474 ms\n",
      "Wall time: 484 ms\n"
     ]
    },
    {
     "data": {
      "text/plain": [
       "(3, 50000, 10)"
      ]
     },
     "execution_count": 8,
     "metadata": {},
     "output_type": "execute_result"
    }
   ],
   "source": [
    "%%time\n",
    "preds = model.predict_staged(X_test, iterations=[100, 300, 500])\n",
    "\n",
    "preds.shape"
   ]
  },
  {
   "cell_type": "markdown",
   "metadata": {},
   "source": [
    "#### Tree leaves indicies prediction for certan iterations can be done via calling the .predict_leaves method"
   ]
  },
  {
   "cell_type": "code",
   "execution_count": 9,
   "metadata": {},
   "outputs": [
    {
     "name": "stdout",
     "output_type": "stream",
     "text": [
      "CPU times: user 6.66 ms, sys: 10.8 ms, total: 17.5 ms\n",
      "Wall time: 16.8 ms\n"
     ]
    },
    {
     "data": {
      "text/plain": [
       "(3, 50000, 1)"
      ]
     },
     "execution_count": 9,
     "metadata": {},
     "output_type": "execute_result"
    }
   ],
   "source": [
    "%%time\n",
    "preds = model.predict_leaves(X_test, iterations=[100, 300, 500])\n",
    "\n",
    "preds.shape"
   ]
  },
  {
   "cell_type": "code",
   "execution_count": 10,
   "metadata": {},
   "outputs": [
    {
     "data": {
      "text/plain": [
       "array([[11, 46, 10],\n",
       "       [54, 46, 28],\n",
       "       [32, 46, 55],\n",
       "       ...,\n",
       "       [54, 53, 10],\n",
       "       [27, 46, 20],\n",
       "       [60, 46, 27]], dtype=uint32)"
      ]
     },
     "execution_count": 10,
     "metadata": {},
     "output_type": "execute_result"
    }
   ],
   "source": [
    "preds.T[0]"
   ]
  },
  {
   "cell_type": "markdown",
   "metadata": {},
   "source": [
    "#### Feature importances"
   ]
  },
  {
   "cell_type": "code",
   "execution_count": 11,
   "metadata": {},
   "outputs": [
    {
     "data": {
      "text/plain": [
       "array([  40.,   52.,   31.,   49.,   57.,   62., 5790.,   44.,   48.,\n",
       "         70.,   49.,   51.,   52.,   41.,   34., 5901., 5427.,   38.,\n",
       "         33., 5442.,   33.,   39.,   55.,   62.,   39.,   37.,   45.,\n",
       "         59.,   43.,   45.,   57.,   62.,   34.,   45.,   29.,   60.,\n",
       "       6040.,   46.,   43.,   37.,   39.,   40.,   46.,   42.,   52.,\n",
       "         61.,   40.,   44.,   46.,   55.,   44.,   45., 5918.,   38.,\n",
       "         42.,   73.,   49.,   34.,   37.,   48.,   55.,   37.,   38.,\n",
       "         51.,   46.,   39.,   42.,   43.,   42.,   58.,   40.,   41.,\n",
       "         46.,   39.,   49.,   49.,   58.,   39.,   37.,   51.,   61.,\n",
       "         37.,   50.,   51.,   66.,   30., 5607., 3529.,   41., 5747.,\n",
       "         53., 6175.,   46.,   56.,   45.,   40.,   38.,   51.,   41.,\n",
       "         65.], dtype=float32)"
      ]
     },
     "execution_count": 11,
     "metadata": {},
     "output_type": "execute_result"
    }
   ],
   "source": [
    "model.get_feature_importance()"
   ]
  },
  {
   "cell_type": "markdown",
   "metadata": {},
   "source": [
    "#### The trained model can be saved as pickle for inference"
   ]
  },
  {
   "cell_type": "code",
   "execution_count": 12,
   "metadata": {},
   "outputs": [
    {
     "data": {
      "text/plain": [
       "array([[-240.17752 , -145.03291 , -275.28513 , ..., -137.55057 ,\n",
       "        -210.75629 , -233.15964 ],\n",
       "       [-113.514046, -114.34615 ,  -58.754765, ..., -127.49755 ,\n",
       "        -116.32571 ,  -21.29363 ],\n",
       "       [ -35.181435,  -55.067272,  142.86133 , ...,   20.998077,\n",
       "         -21.99269 , -208.16821 ],\n",
       "       ...,\n",
       "       [ -80.83802 ,  133.6094  ,   85.85005 , ...,  225.99036 ,\n",
       "          36.656986,   13.258009],\n",
       "       [  -5.558326,  141.5677  ,  251.22258 , ...,  153.28246 ,\n",
       "         179.13031 ,  210.6762  ],\n",
       "       [ -25.74225 ,   29.600954,  164.6824  , ...,   89.410904,\n",
       "          18.127083,   -0.798545]], dtype=float32)"
      ]
     },
     "execution_count": 12,
     "metadata": {},
     "output_type": "execute_result"
    }
   ],
   "source": [
    "joblib.dump(model, '../data/temp_model.pkl')\n",
    "\n",
    "new_model = joblib.load('../data/temp_model.pkl')\n",
    "new_model.predict(X_test)"
   ]
  }
 ],
 "metadata": {
  "kernelspec": {
   "display_name": "Anaconda_py38",
   "language": "python",
   "name": "anaconda_py38"
  },
  "language_info": {
   "codemirror_mode": {
    "name": "ipython",
    "version": 3
   },
   "file_extension": ".py",
   "mimetype": "text/x-python",
   "name": "python",
   "nbconvert_exporter": "python",
   "pygments_lexer": "ipython3",
   "version": "3.8.5"
  }
 },
 "nbformat": 4,
 "nbformat_minor": 2
}
