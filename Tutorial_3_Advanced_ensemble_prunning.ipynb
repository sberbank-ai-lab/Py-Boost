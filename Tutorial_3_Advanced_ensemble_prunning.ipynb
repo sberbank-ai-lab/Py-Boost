{
 "cells": [
  {
   "cell_type": "markdown",
   "metadata": {},
   "source": [
    "## Advanced early stopping strategy"
   ]
  },
  {
   "cell_type": "markdown",
   "metadata": {},
   "source": [
    "### Imports"
   ]
  },
  {
   "cell_type": "code",
   "execution_count": 1,
   "metadata": {},
   "outputs": [],
   "source": [
    "import os\n",
    "# set the device to run\n",
    "os.environ[\"CUDA_DEVICE_ORDER\"] = \"PCI_BUS_ID\"\n",
    "os.environ[\"CUDA_VISIBLE_DEVICES\"] = \"1\"\n",
    "\n",
    "os.makedirs('data', exist_ok=True)\n",
    "\n",
    "import numpy as np\n",
    "import pandas as pd\n",
    "from pandas import Series, DataFrame\n",
    "\n",
    "from sklearn.model_selection import train_test_split\n",
    "from sklearn.metrics import log_loss\n",
    "\n",
    "from py_boost import GradientBoosting \n",
    "\n",
    "# advanced prunning strategy\n",
    "from py_boost.callbacks.advanced_es import AdvancedES"
   ]
  },
  {
   "cell_type": "markdown",
   "metadata": {},
   "source": [
    "### Download data from openml"
   ]
  },
  {
   "cell_type": "code",
   "execution_count": 2,
   "metadata": {},
   "outputs": [
    {
     "name": "stdout",
     "output_type": "stream",
     "text": [
      "--2021-11-11 01:42:08--  https://www.openml.org/data/get_csv/19335689/file1c556e3db171.csv\n",
      "Resolving www.openml.org (www.openml.org)... 131.155.11.11\n",
      "Connecting to www.openml.org (www.openml.org)|131.155.11.11|:443... connected.\n",
      "HTTP request sent, awaiting response... 200 OK\n",
      "Length: unspecified [text/plain]\n",
      "Saving to: ‘data/volkert.csv’\n",
      "\n",
      "data/volkert.csv        [    <=>             ]  65.06M  6.87MB/s    in 7.6s    \n",
      "\n",
      "2021-11-11 01:42:15 (8.52 MB/s) - ‘data/volkert.csv’ saved [68219213]\n",
      "\n"
     ]
    }
   ],
   "source": [
    "!wget https://www.openml.org/data/get_csv/19335689/file1c556e3db171.csv -O data/volkert.csv"
   ]
  },
  {
   "cell_type": "code",
   "execution_count": 3,
   "metadata": {},
   "outputs": [],
   "source": [
    "data = pd.read_csv('data/volkert.csv', na_values='?')"
   ]
  },
  {
   "cell_type": "code",
   "execution_count": 4,
   "metadata": {},
   "outputs": [
    {
     "data": {
      "text/html": [
       "<div>\n",
       "<style scoped>\n",
       "    .dataframe tbody tr th:only-of-type {\n",
       "        vertical-align: middle;\n",
       "    }\n",
       "\n",
       "    .dataframe tbody tr th {\n",
       "        vertical-align: top;\n",
       "    }\n",
       "\n",
       "    .dataframe thead th {\n",
       "        text-align: right;\n",
       "    }\n",
       "</style>\n",
       "<table border=\"1\" class=\"dataframe\">\n",
       "  <thead>\n",
       "    <tr style=\"text-align: right;\">\n",
       "      <th></th>\n",
       "      <th>class</th>\n",
       "      <th>V1</th>\n",
       "      <th>V2</th>\n",
       "      <th>V3</th>\n",
       "      <th>V4</th>\n",
       "      <th>V5</th>\n",
       "      <th>V6</th>\n",
       "      <th>V7</th>\n",
       "      <th>V8</th>\n",
       "      <th>V9</th>\n",
       "      <th>...</th>\n",
       "      <th>V171</th>\n",
       "      <th>V172</th>\n",
       "      <th>V173</th>\n",
       "      <th>V174</th>\n",
       "      <th>V175</th>\n",
       "      <th>V176</th>\n",
       "      <th>V177</th>\n",
       "      <th>V178</th>\n",
       "      <th>V179</th>\n",
       "      <th>V180</th>\n",
       "    </tr>\n",
       "  </thead>\n",
       "  <tbody>\n",
       "    <tr>\n",
       "      <th>0</th>\n",
       "      <td>0</td>\n",
       "      <td>0.438660</td>\n",
       "      <td>0</td>\n",
       "      <td>0</td>\n",
       "      <td>0</td>\n",
       "      <td>0</td>\n",
       "      <td>0</td>\n",
       "      <td>0</td>\n",
       "      <td>0</td>\n",
       "      <td>0</td>\n",
       "      <td>...</td>\n",
       "      <td>0.013889</td>\n",
       "      <td>0.012153</td>\n",
       "      <td>0.012442</td>\n",
       "      <td>0.013021</td>\n",
       "      <td>0.014757</td>\n",
       "      <td>0.012442</td>\n",
       "      <td>0.013600</td>\n",
       "      <td>0.010417</td>\n",
       "      <td>0.009549</td>\n",
       "      <td>0.013600</td>\n",
       "    </tr>\n",
       "    <tr>\n",
       "      <th>1</th>\n",
       "      <td>2</td>\n",
       "      <td>0.000000</td>\n",
       "      <td>0</td>\n",
       "      <td>0</td>\n",
       "      <td>0</td>\n",
       "      <td>0</td>\n",
       "      <td>0</td>\n",
       "      <td>0</td>\n",
       "      <td>0</td>\n",
       "      <td>0</td>\n",
       "      <td>...</td>\n",
       "      <td>0.013889</td>\n",
       "      <td>0.014178</td>\n",
       "      <td>0.013310</td>\n",
       "      <td>0.014468</td>\n",
       "      <td>0.013021</td>\n",
       "      <td>0.015625</td>\n",
       "      <td>0.016493</td>\n",
       "      <td>0.015046</td>\n",
       "      <td>0.016782</td>\n",
       "      <td>0.010995</td>\n",
       "    </tr>\n",
       "    <tr>\n",
       "      <th>2</th>\n",
       "      <td>9</td>\n",
       "      <td>0.000000</td>\n",
       "      <td>0</td>\n",
       "      <td>0</td>\n",
       "      <td>0</td>\n",
       "      <td>0</td>\n",
       "      <td>0</td>\n",
       "      <td>0</td>\n",
       "      <td>0</td>\n",
       "      <td>0</td>\n",
       "      <td>...</td>\n",
       "      <td>0.009259</td>\n",
       "      <td>0.012442</td>\n",
       "      <td>0.011574</td>\n",
       "      <td>0.011574</td>\n",
       "      <td>0.010706</td>\n",
       "      <td>0.007812</td>\n",
       "      <td>0.012153</td>\n",
       "      <td>0.009549</td>\n",
       "      <td>0.007812</td>\n",
       "      <td>0.017361</td>\n",
       "    </tr>\n",
       "    <tr>\n",
       "      <th>3</th>\n",
       "      <td>3</td>\n",
       "      <td>0.000000</td>\n",
       "      <td>0</td>\n",
       "      <td>0</td>\n",
       "      <td>0</td>\n",
       "      <td>0</td>\n",
       "      <td>0</td>\n",
       "      <td>0</td>\n",
       "      <td>0</td>\n",
       "      <td>0</td>\n",
       "      <td>...</td>\n",
       "      <td>0.005498</td>\n",
       "      <td>0.006655</td>\n",
       "      <td>0.007812</td>\n",
       "      <td>0.006366</td>\n",
       "      <td>0.007234</td>\n",
       "      <td>0.007523</td>\n",
       "      <td>0.006076</td>\n",
       "      <td>0.006944</td>\n",
       "      <td>0.006076</td>\n",
       "      <td>0.006655</td>\n",
       "    </tr>\n",
       "    <tr>\n",
       "      <th>4</th>\n",
       "      <td>0</td>\n",
       "      <td>0.000000</td>\n",
       "      <td>0</td>\n",
       "      <td>0</td>\n",
       "      <td>0</td>\n",
       "      <td>0</td>\n",
       "      <td>0</td>\n",
       "      <td>0</td>\n",
       "      <td>0</td>\n",
       "      <td>0</td>\n",
       "      <td>...</td>\n",
       "      <td>0.006655</td>\n",
       "      <td>0.007234</td>\n",
       "      <td>0.008970</td>\n",
       "      <td>0.004919</td>\n",
       "      <td>0.009549</td>\n",
       "      <td>0.008391</td>\n",
       "      <td>0.006944</td>\n",
       "      <td>0.005498</td>\n",
       "      <td>0.002025</td>\n",
       "      <td>0.019965</td>\n",
       "    </tr>\n",
       "    <tr>\n",
       "      <th>...</th>\n",
       "      <td>...</td>\n",
       "      <td>...</td>\n",
       "      <td>...</td>\n",
       "      <td>...</td>\n",
       "      <td>...</td>\n",
       "      <td>...</td>\n",
       "      <td>...</td>\n",
       "      <td>...</td>\n",
       "      <td>...</td>\n",
       "      <td>...</td>\n",
       "      <td>...</td>\n",
       "      <td>...</td>\n",
       "      <td>...</td>\n",
       "      <td>...</td>\n",
       "      <td>...</td>\n",
       "      <td>...</td>\n",
       "      <td>...</td>\n",
       "      <td>...</td>\n",
       "      <td>...</td>\n",
       "      <td>...</td>\n",
       "      <td>...</td>\n",
       "    </tr>\n",
       "    <tr>\n",
       "      <th>58305</th>\n",
       "      <td>0</td>\n",
       "      <td>0.000868</td>\n",
       "      <td>0</td>\n",
       "      <td>0</td>\n",
       "      <td>0</td>\n",
       "      <td>0</td>\n",
       "      <td>0</td>\n",
       "      <td>0</td>\n",
       "      <td>0</td>\n",
       "      <td>0</td>\n",
       "      <td>...</td>\n",
       "      <td>0.004340</td>\n",
       "      <td>0.010417</td>\n",
       "      <td>0.012442</td>\n",
       "      <td>0.005498</td>\n",
       "      <td>0.008102</td>\n",
       "      <td>0.006366</td>\n",
       "      <td>0.005498</td>\n",
       "      <td>0.006366</td>\n",
       "      <td>0.003472</td>\n",
       "      <td>0.018229</td>\n",
       "    </tr>\n",
       "    <tr>\n",
       "      <th>58306</th>\n",
       "      <td>7</td>\n",
       "      <td>0.000000</td>\n",
       "      <td>0</td>\n",
       "      <td>0</td>\n",
       "      <td>0</td>\n",
       "      <td>0</td>\n",
       "      <td>0</td>\n",
       "      <td>0</td>\n",
       "      <td>0</td>\n",
       "      <td>0</td>\n",
       "      <td>...</td>\n",
       "      <td>0.004946</td>\n",
       "      <td>0.010765</td>\n",
       "      <td>0.019494</td>\n",
       "      <td>0.004655</td>\n",
       "      <td>0.015711</td>\n",
       "      <td>0.010474</td>\n",
       "      <td>0.009601</td>\n",
       "      <td>0.009019</td>\n",
       "      <td>0.000291</td>\n",
       "      <td>0.051207</td>\n",
       "    </tr>\n",
       "    <tr>\n",
       "      <th>58307</th>\n",
       "      <td>0</td>\n",
       "      <td>0.414640</td>\n",
       "      <td>0</td>\n",
       "      <td>0</td>\n",
       "      <td>0</td>\n",
       "      <td>0</td>\n",
       "      <td>0</td>\n",
       "      <td>0</td>\n",
       "      <td>0</td>\n",
       "      <td>0</td>\n",
       "      <td>...</td>\n",
       "      <td>0.017940</td>\n",
       "      <td>0.016493</td>\n",
       "      <td>0.021123</td>\n",
       "      <td>0.016493</td>\n",
       "      <td>0.018519</td>\n",
       "      <td>0.020255</td>\n",
       "      <td>0.019676</td>\n",
       "      <td>0.018519</td>\n",
       "      <td>0.017650</td>\n",
       "      <td>0.023438</td>\n",
       "    </tr>\n",
       "    <tr>\n",
       "      <th>58308</th>\n",
       "      <td>5</td>\n",
       "      <td>1.000000</td>\n",
       "      <td>0</td>\n",
       "      <td>0</td>\n",
       "      <td>0</td>\n",
       "      <td>0</td>\n",
       "      <td>0</td>\n",
       "      <td>0</td>\n",
       "      <td>0</td>\n",
       "      <td>0</td>\n",
       "      <td>...</td>\n",
       "      <td>0.013889</td>\n",
       "      <td>0.015914</td>\n",
       "      <td>0.017361</td>\n",
       "      <td>0.018229</td>\n",
       "      <td>0.020255</td>\n",
       "      <td>0.019676</td>\n",
       "      <td>0.020833</td>\n",
       "      <td>0.026331</td>\n",
       "      <td>0.019965</td>\n",
       "      <td>0.020255</td>\n",
       "    </tr>\n",
       "    <tr>\n",
       "      <th>58309</th>\n",
       "      <td>7</td>\n",
       "      <td>0.352140</td>\n",
       "      <td>0</td>\n",
       "      <td>0</td>\n",
       "      <td>0</td>\n",
       "      <td>0</td>\n",
       "      <td>0</td>\n",
       "      <td>0</td>\n",
       "      <td>0</td>\n",
       "      <td>0</td>\n",
       "      <td>...</td>\n",
       "      <td>0.008681</td>\n",
       "      <td>0.008681</td>\n",
       "      <td>0.014468</td>\n",
       "      <td>0.006366</td>\n",
       "      <td>0.013310</td>\n",
       "      <td>0.009259</td>\n",
       "      <td>0.012731</td>\n",
       "      <td>0.008102</td>\n",
       "      <td>0.002604</td>\n",
       "      <td>0.024884</td>\n",
       "    </tr>\n",
       "  </tbody>\n",
       "</table>\n",
       "<p>58310 rows × 181 columns</p>\n",
       "</div>"
      ],
      "text/plain": [
       "       class        V1  V2  V3  V4  V5  V6  V7  V8  V9  ...      V171  \\\n",
       "0          0  0.438660   0   0   0   0   0   0   0   0  ...  0.013889   \n",
       "1          2  0.000000   0   0   0   0   0   0   0   0  ...  0.013889   \n",
       "2          9  0.000000   0   0   0   0   0   0   0   0  ...  0.009259   \n",
       "3          3  0.000000   0   0   0   0   0   0   0   0  ...  0.005498   \n",
       "4          0  0.000000   0   0   0   0   0   0   0   0  ...  0.006655   \n",
       "...      ...       ...  ..  ..  ..  ..  ..  ..  ..  ..  ...       ...   \n",
       "58305      0  0.000868   0   0   0   0   0   0   0   0  ...  0.004340   \n",
       "58306      7  0.000000   0   0   0   0   0   0   0   0  ...  0.004946   \n",
       "58307      0  0.414640   0   0   0   0   0   0   0   0  ...  0.017940   \n",
       "58308      5  1.000000   0   0   0   0   0   0   0   0  ...  0.013889   \n",
       "58309      7  0.352140   0   0   0   0   0   0   0   0  ...  0.008681   \n",
       "\n",
       "           V172      V173      V174      V175      V176      V177      V178  \\\n",
       "0      0.012153  0.012442  0.013021  0.014757  0.012442  0.013600  0.010417   \n",
       "1      0.014178  0.013310  0.014468  0.013021  0.015625  0.016493  0.015046   \n",
       "2      0.012442  0.011574  0.011574  0.010706  0.007812  0.012153  0.009549   \n",
       "3      0.006655  0.007812  0.006366  0.007234  0.007523  0.006076  0.006944   \n",
       "4      0.007234  0.008970  0.004919  0.009549  0.008391  0.006944  0.005498   \n",
       "...         ...       ...       ...       ...       ...       ...       ...   \n",
       "58305  0.010417  0.012442  0.005498  0.008102  0.006366  0.005498  0.006366   \n",
       "58306  0.010765  0.019494  0.004655  0.015711  0.010474  0.009601  0.009019   \n",
       "58307  0.016493  0.021123  0.016493  0.018519  0.020255  0.019676  0.018519   \n",
       "58308  0.015914  0.017361  0.018229  0.020255  0.019676  0.020833  0.026331   \n",
       "58309  0.008681  0.014468  0.006366  0.013310  0.009259  0.012731  0.008102   \n",
       "\n",
       "           V179      V180  \n",
       "0      0.009549  0.013600  \n",
       "1      0.016782  0.010995  \n",
       "2      0.007812  0.017361  \n",
       "3      0.006076  0.006655  \n",
       "4      0.002025  0.019965  \n",
       "...         ...       ...  \n",
       "58305  0.003472  0.018229  \n",
       "58306  0.000291  0.051207  \n",
       "58307  0.017650  0.023438  \n",
       "58308  0.019965  0.020255  \n",
       "58309  0.002604  0.024884  \n",
       "\n",
       "[58310 rows x 181 columns]"
      ]
     },
     "execution_count": 4,
     "metadata": {},
     "output_type": "execute_result"
    }
   ],
   "source": [
    "data"
   ]
  },
  {
   "cell_type": "markdown",
   "metadata": {},
   "source": []
  },
  {
   "cell_type": "code",
   "execution_count": 5,
   "metadata": {},
   "outputs": [],
   "source": [
    "X = data.drop('class', axis=1).values.astype('float32')\n",
    "y = (data['class']).values.astype('int32')\n",
    "\n",
    "\n",
    "X, X_test, y, y_test = train_test_split(X, y, test_size=0.2, random_state=42, shuffle=True)\n",
    "\n",
    "X, X_val, y, y_val = train_test_split(X, y, test_size=0.3, random_state=42, shuffle=True)\n"
   ]
  },
  {
   "cell_type": "code",
   "execution_count": 6,
   "metadata": {},
   "outputs": [
    {
     "data": {
      "text/plain": [
       "4.467032125685235"
      ]
     },
     "execution_count": 6,
     "metadata": {},
     "output_type": "execute_result"
    }
   ],
   "source": [
    "y.mean()"
   ]
  },
  {
   "cell_type": "markdown",
   "metadata": {},
   "source": [
    "### Train simple model\n",
    "\n",
    "Let's train the simple model, we will use validation set for the early stopping and evaluate accuracy on the test set to avoid overestimation"
   ]
  },
  {
   "cell_type": "code",
   "execution_count": 7,
   "metadata": {
    "scrolled": true
   },
   "outputs": [
    {
     "name": "stdout",
     "output_type": "stream",
     "text": [
      "[01:42:19] Stdout logging level is INFO.\n",
      "[01:42:19] GDBT train starts. Max iter 10000, early stopping rounds 300\n",
      "[01:42:20] Iter 0; Sample 0, Crossentropy = 2.181068391156711; \n",
      "[01:42:42] Iter 1000; Sample 0, Crossentropy = 0.9296358989596356; \n",
      "[01:43:04] Iter 2000; Sample 0, Crossentropy = 0.8972518262973849; \n",
      "[01:43:27] Iter 3000; Sample 0, Crossentropy = 0.8830401193199362; \n",
      "[01:43:49] Iter 4000; Sample 0, Crossentropy = 0.8753117101808281; \n",
      "[01:44:11] Iter 5000; Sample 0, Crossentropy = 0.8727872564239998; \n",
      "[01:44:30] Early stopping at iter 5828, best iter 5528, best_score 0.8720492694887033\n",
      "CPU times: user 1min 53s, sys: 20.1 s, total: 2min 13s\n",
      "Wall time: 2min 12s\n"
     ]
    },
    {
     "data": {
      "text/plain": [
       "<py_boost.gpu.boosting.GradientBoosting at 0x7fa5dd269280>"
      ]
     },
     "execution_count": 7,
     "metadata": {},
     "output_type": "execute_result"
    }
   ],
   "source": [
    "%%time\n",
    "model = GradientBoosting('crossentropy', \n",
    "                         ntrees=10000, lr=0.05, verbose=1000, es=300, lambda_l2=10,\n",
    "                         subsample=1, colsample=1, min_data_in_leaf=10,\n",
    "                         max_bin=256, max_depth=6)\n",
    "\n",
    "model.fit(X, y, eval_sets = [{'X': X_val, 'y': y_val}])"
   ]
  },
  {
   "cell_type": "code",
   "execution_count": 8,
   "metadata": {},
   "outputs": [],
   "source": [
    "# %debug"
   ]
  },
  {
   "cell_type": "code",
   "execution_count": 9,
   "metadata": {},
   "outputs": [
    {
     "name": "stdout",
     "output_type": "stream",
     "text": [
      "CPU times: user 3.8 s, sys: 120 ms, total: 3.92 s\n",
      "Wall time: 3.92 s\n"
     ]
    },
    {
     "data": {
      "text/plain": [
       "(11662, 10)"
      ]
     },
     "execution_count": 9,
     "metadata": {},
     "output_type": "execute_result"
    }
   ],
   "source": [
    "%%time\n",
    "pred = model.predict(X_test)\n",
    "\n",
    "pred.shape"
   ]
  },
  {
   "cell_type": "code",
   "execution_count": 10,
   "metadata": {},
   "outputs": [
    {
     "data": {
      "text/plain": [
       "0.8560588106838752"
      ]
     },
     "execution_count": 10,
     "metadata": {},
     "output_type": "execute_result"
    }
   ],
   "source": [
    "log_loss(y_test, pred)"
   ]
  },
  {
   "cell_type": "markdown",
   "metadata": {},
   "source": [
    "### Train model with advanced early stopping\n",
    "\n",
    "Let's now train the model by selection separate prunning points for different validation data clusters. We will split validation data using Decision Trees of different depth. Note: it is important to disable common early stoppinng strategy by passing es=0"
   ]
  },
  {
   "cell_type": "code",
   "execution_count": 11,
   "metadata": {
    "scrolled": true
   },
   "outputs": [
    {
     "name": "stdout",
     "output_type": "stream",
     "text": [
      "[01:44:34] Stdout logging level is INFO.\n",
      "[01:44:34] GDBT train starts. Max iter 10000, early stopping rounds 0\n",
      "[01:44:34] Iter 0; Sample 0, Crossentropy = 2.181068378903851; \n",
      "[01:44:57] Iter 1000; Sample 0, Crossentropy = 0.9296106331675427; \n",
      "[01:44:57] Advanced ES: Best strategy 4, best LVO metric 0.9295895158018498\n",
      "[01:45:21] Iter 2000; Sample 0, Crossentropy = 0.8960243708298485; \n",
      "[01:45:21] Advanced ES: Best strategy 2, best LVO metric 0.8960158703378166\n",
      "[01:45:44] Iter 3000; Sample 0, Crossentropy = 0.8808397727133226; \n",
      "[01:45:44] Advanced ES: Best strategy 2, best LVO metric 0.8808188849303289\n",
      "[01:46:07] Iter 4000; Sample 0, Crossentropy = 0.873921449608148; \n",
      "[01:46:07] Advanced ES: Best strategy 0, best LVO metric 0.873921449608148\n",
      "[01:46:30] Iter 5000; Sample 0, Crossentropy = 0.8702889987945498; \n",
      "[01:46:30] Advanced ES: Best strategy 1, best LVO metric 0.8702155596421789\n",
      "[01:46:54] Iter 6000; Sample 0, Crossentropy = 0.8699057896840645; \n",
      "[01:46:54] Advanced ES: Best strategy 2, best LVO metric 0.8694962291117104\n",
      "[01:47:17] Iter 7000; Sample 0, Crossentropy = 0.8717397583221399; \n",
      "[01:47:17] Advanced ES: Best strategy 6, best LVO metric 0.8693141220578968\n",
      "[01:47:40] Iter 8000; Sample 0, Crossentropy = 0.8736906851170111; \n",
      "[01:47:40] Advanced ES: Best strategy 6, best LVO metric 0.8688509396693654\n",
      "[01:48:03] Iter 9000; Sample 0, Crossentropy = 0.8760055495030301; \n",
      "[01:48:03] Advanced ES: Best strategy 6, best LVO metric 0.8685616421574046\n",
      "[01:48:12] Best prunning stategy ID: 6. Best LVO estimation: 0.8685052573864539\n",
      "CPU times: user 3min 9s, sys: 30.1 s, total: 3min 39s\n",
      "Wall time: 3min 38s\n"
     ]
    },
    {
     "data": {
      "text/plain": [
       "<py_boost.gpu.boosting.GradientBoosting at 0x7fa5dd4cabb0>"
      ]
     },
     "execution_count": 11,
     "metadata": {},
     "output_type": "execute_result"
    }
   ],
   "source": [
    "%%time\n",
    "adv_es = AdvancedES(num_rounds=300, freq=10, max_depths=(1, 2, 3, 4, 5, 6), min_data_in_leaf=100)\n",
    "\n",
    "model = GradientBoosting('crossentropy',  \n",
    "                         ntrees=10000, lr=0.05, verbose=1000, es=0, lambda_l2=10,\n",
    "                         subsample=1, colsample=1, min_data_in_leaf=10,\n",
    "                         max_bin=256, max_depth=6,\n",
    "                        callbacks=[adv_es])\n",
    "\n",
    "model.fit(X, y, eval_sets = [{'X': X_val, 'y': y_val}])"
   ]
  },
  {
   "cell_type": "code",
   "execution_count": 12,
   "metadata": {},
   "outputs": [
    {
     "data": {
      "text/plain": [
       "[0.8697107124027974,\n",
       " 0.869700977292128,\n",
       " 0.8694962291117104,\n",
       " 0.8698414828270951,\n",
       " 0.8699477059493821,\n",
       " 0.8686998170994192,\n",
       " 0.8685052573864539]"
      ]
     },
     "execution_count": 12,
     "metadata": {},
     "output_type": "execute_result"
    }
   ],
   "source": [
    "adv_es.best_lvo_metrics"
   ]
  },
  {
   "cell_type": "code",
   "execution_count": 13,
   "metadata": {},
   "outputs": [
    {
     "data": {
      "text/plain": [
       "(11662, 10)"
      ]
     },
     "execution_count": 13,
     "metadata": {},
     "output_type": "execute_result"
    }
   ],
   "source": [
    "pred = adv_es.predict(X_test)\n",
    "\n",
    "pred.shape"
   ]
  },
  {
   "cell_type": "code",
   "execution_count": 14,
   "metadata": {},
   "outputs": [
    {
     "data": {
      "text/plain": [
       "0.856550771555217"
      ]
     },
     "execution_count": 14,
     "metadata": {},
     "output_type": "execute_result"
    }
   ],
   "source": [
    "log_loss(y_test, pred)"
   ]
  },
  {
   "cell_type": "markdown",
   "metadata": {},
   "source": [
    "#### This strategy may slightly improve score on the test set for some datasets"
   ]
  }
 ],
 "metadata": {
  "kernelspec": {
   "display_name": "Anaconda_py38",
   "language": "python",
   "name": "anaconda_py38"
  },
  "language_info": {
   "codemirror_mode": {
    "name": "ipython",
    "version": 3
   },
   "file_extension": ".py",
   "mimetype": "text/x-python",
   "name": "python",
   "nbconvert_exporter": "python",
   "pygments_lexer": "ipython3",
   "version": "3.8.5"
  }
 },
 "nbformat": 4,
 "nbformat_minor": 2
}
