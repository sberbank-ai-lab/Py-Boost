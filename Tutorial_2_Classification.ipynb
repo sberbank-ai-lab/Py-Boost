{
 "cells": [
  {
   "cell_type": "code",
   "execution_count": 6,
   "metadata": {},
   "outputs": [],
   "source": [
    "import os\n",
    "# set the device to run\n",
    "os.environ[\"CUDA_DEVICE_ORDER\"] = \"PCI_BUS_ID\"\n",
    "os.environ[\"CUDA_VISIBLE_DEVICES\"] = \"1\"\n",
    "\n",
    "import numpy as np\n",
    "from sklearn.datasets import make_classification, make_regression\n",
    "\n",
    "from py_boost import GradientBoosting "
   ]
  },
  {
   "cell_type": "code",
   "execution_count": 25,
   "metadata": {},
   "outputs": [
    {
     "name": "stdout",
     "output_type": "stream",
     "text": [
      "CPU times: user 3.93 s, sys: 3.36 s, total: 7.29 s\n",
      "Wall time: 1.23 s\n"
     ]
    }
   ],
   "source": [
    "%%time\n",
    "X, y = make_classification(150000, 100, n_classes=5, random_state=42, n_informative=30)\n",
    "X = X.astype(np.float32)\n",
    "X_test, y_test = X[:50000], y[:50000]\n",
    "X, y = X[50000:], y[50000:]\n",
    "\n",
    "sample_weight = np.random.rand(150000)\n",
    "w_test = sample_weight[:50000]\n",
    "w = sample_weight[50000:]"
   ]
  },
  {
   "cell_type": "code",
   "execution_count": 4,
   "metadata": {},
   "outputs": [],
   "source": [
    "from py_boost.gpu.losses import *"
   ]
  },
  {
   "cell_type": "code",
   "execution_count": 5,
   "metadata": {},
   "outputs": [
    {
     "name": "stdout",
     "output_type": "stream",
     "text": [
      "Iter 0; Sample 0, F1_score = 0.0;  Sample 1, F1_score = 0.0; \n",
      "Iter 100; Sample 0, F1_score = 0.11107754707336426;  Sample 1, F1_score = 0.09315441462465965; \n",
      "Iter 200; Sample 0, F1_score = 0.5074315667152405;  Sample 1, F1_score = 0.4699369521759188; \n",
      "Iter 300; Sample 0, F1_score = 0.6575973033905029;  Sample 1, F1_score = 0.6089293096320794; \n",
      "Iter 400; Sample 0, F1_score = 0.7355354428291321;  Sample 1, F1_score = 0.6813627254509018; \n",
      "Iter 500; Sample 0, F1_score = 0.7783896327018738;  Sample 1, F1_score = 0.7218654529584139; \n",
      "Iter 600; Sample 0, F1_score = 0.8057605028152466;  Sample 1, F1_score = 0.7515475179026581; \n",
      "Iter 700; Sample 0, F1_score = 0.8268206119537354;  Sample 1, F1_score = 0.7722701576911633; \n",
      "Iter 800; Sample 0, F1_score = 0.841198742389679;  Sample 1, F1_score = 0.7864825154275639; \n",
      "Iter 900; Sample 0, F1_score = 0.8558464050292969;  Sample 1, F1_score = 0.8005572324123521; \n",
      "Iter 999; Sample 0, F1_score = 0.8671237826347351;  Sample 1, F1_score = 0.8101396792550439; \n",
      "CPU times: user 19 s, sys: 1.98 s, total: 21 s\n",
      "Wall time: 18.5 s\n"
     ]
    },
    {
     "data": {
      "text/plain": [
       "<py_boost.gpu.boosting.GradientBoosting at 0x7f795ce824f0>"
      ]
     },
     "execution_count": 5,
     "metadata": {},
     "output_type": "execute_result"
    }
   ],
   "source": [
    "%%time\n",
    "model = GradientBoosting('binary', F1Score(), \n",
    "                         ntrees=1000, lr=.01, verbose=100, es=0, lambda_l2=1,\n",
    "                         subsample=.8, colsample=.8, min_data_in_leaf=10,\n",
    "                         max_bin=256, max_depth=6)\n",
    "model.fit(X, y==0, \n",
    "          eval_sets = [\n",
    "              {'X': X, 'y': y==0, 'sample_weight': w}, \n",
    "              {'X': X_test, 'y': y_test==0}\n",
    "          ]\n",
    ")"
   ]
  },
  {
   "cell_type": "code",
   "execution_count": 14,
   "metadata": {},
   "outputs": [
    {
     "name": "stdout",
     "output_type": "stream",
     "text": [
      "Iter 0; Sample 0, score = 0.4537686115771251;  Sample 1, score = 0.44276431290263557; \n",
      "Iter 4; Sample 0, score = 0.5768719064352923;  Sample 1, score = 0.5572464068843448; \n",
      "CPU times: user 3.91 s, sys: 49.4 ms, total: 3.96 s\n",
      "Wall time: 1.45 s\n"
     ]
    },
    {
     "data": {
      "text/plain": [
       "<py_boost.gpu.boosting.GradientBoosting at 0x7fd2dc695df0>"
      ]
     },
     "execution_count": 14,
     "metadata": {},
     "output_type": "execute_result"
    }
   ],
   "source": [
    "%%time\n",
    "model = GradientBoosting('multiclass', MultiF1Score(average='macro'), \n",
    "                         ntrees=5, lr=.01, verbose=100, es=0, lambda_l2=1,\n",
    "                         subsample=.8, colsample=.8, min_data_in_leaf=10, target_splitter='Single',\n",
    "                         max_bin=256, max_depth=6)\n",
    "model.fit(X, y, sample_weight=w,\n",
    "          eval_sets = [\n",
    "              {'X': X, 'y': y, 'sample_weight': w\n",
    "              }, \n",
    "              {'X': X_test, 'y': y_test}\n",
    "          ]\n",
    "         )"
   ]
  },
  {
   "cell_type": "code",
   "execution_count": 15,
   "metadata": {},
   "outputs": [],
   "source": [
    "pp = model.predict(X)"
   ]
  }
 ],
 "metadata": {
  "kernelspec": {
   "display_name": "Anaconda_py38",
   "language": "python",
   "name": "anaconda_py38"
  },
  "language_info": {
   "codemirror_mode": {
    "name": "ipython",
    "version": 3
   },
   "file_extension": ".py",
   "mimetype": "text/x-python",
   "name": "python",
   "nbconvert_exporter": "python",
   "pygments_lexer": "ipython3",
   "version": "3.8.5"
  }
 },
 "nbformat": 4,
 "nbformat_minor": 2
}
