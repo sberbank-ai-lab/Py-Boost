{
 "cells": [
  {
   "cell_type": "markdown",
   "metadata": {},
   "source": [
    "## The simpliest usage example of py_boost"
   ]
  },
  {
   "cell_type": "markdown",
   "metadata": {},
   "source": [
    "### Installation (if needed)\n",
    "\n",
    "**Note**: replace cupy-cuda110 with your cuda version!!!"
   ]
  },
  {
   "cell_type": "code",
   "execution_count": 13,
   "metadata": {},
   "outputs": [
    {
     "name": "stdout",
     "output_type": "stream",
     "text": [
      "Defaulting to user installation because normal site-packages is not writeable\n",
      "Collecting cupy-cuda110\n",
      "  Downloading cupy_cuda110-9.6.0-cp36-cp36m-manylinux1_x86_64.whl (75.4 MB)\n",
      "     |████████████████████████████████| 75.4 MB 30 kB/s              \n",
      "\u001b[?25hCollecting py-boost\n",
      "  Using cached Py_Boost-0.1.0-py3-none-any.whl (39 kB)\n",
      "Requirement already satisfied: numpy<1.24,>=1.17 in /usr/local/lib/python3.6/dist-packages (from cupy-cuda110) (1.19.5)\n",
      "Requirement already satisfied: fastrlock>=0.5 in /usr/local/lib/python3.6/dist-packages (from cupy-cuda110) (0.5)\n",
      "Requirement already satisfied: scikit-learn>=0.22 in /usr/local/lib/python3.6/dist-packages (from py-boost) (0.24.1)\n",
      "Requirement already satisfied: pandas>=1 in /usr/local/lib/python3.6/dist-packages (from py-boost) (1.1.5)\n",
      "Requirement already satisfied: importlib-metadata<2.0,>=1.0 in /usr/local/lib/python3.6/dist-packages (from py-boost) (1.7.0)\n",
      "Requirement already satisfied: numba in /usr/local/lib/python3.6/dist-packages (from py-boost) (0.53.1)\n",
      "Requirement already satisfied: cupy>=9.0.0 in /usr/local/lib/python3.6/dist-packages (from py-boost) (9.4.0)\n",
      "Requirement already satisfied: joblib in /home/user/.local/lib/python3.6/site-packages (from py-boost) (0.15.1)\n",
      "Requirement already satisfied: zipp>=0.5 in /home/user/.local/lib/python3.6/site-packages (from importlib-metadata<2.0,>=1.0->py-boost) (3.1.0)\n",
      "Requirement already satisfied: pytz>=2017.2 in /home/user/.local/lib/python3.6/site-packages (from pandas>=1->py-boost) (2020.1)\n",
      "Requirement already satisfied: python-dateutil>=2.7.3 in /usr/local/lib/python3.6/dist-packages (from pandas>=1->py-boost) (2.8.0)\n",
      "Requirement already satisfied: scipy>=0.19.1 in /usr/local/lib/python3.6/dist-packages (from scikit-learn>=0.22->py-boost) (1.5.4)\n",
      "Requirement already satisfied: threadpoolctl>=2.0.0 in /home/user/.local/lib/python3.6/site-packages (from scikit-learn>=0.22->py-boost) (2.1.0)\n",
      "Requirement already satisfied: setuptools in /usr/local/lib/python3.6/dist-packages (from numba->py-boost) (54.0.0)\n",
      "Requirement already satisfied: llvmlite<0.37,>=0.36.0rc1 in /usr/local/lib/python3.6/dist-packages (from numba->py-boost) (0.36.0)\n",
      "Requirement already satisfied: six>=1.5 in /usr/local/lib/python3.6/dist-packages (from python-dateutil>=2.7.3->pandas>=1->py-boost) (1.15.0)\n",
      "Installing collected packages: py-boost, cupy-cuda110\n",
      "Successfully installed cupy-cuda110-9.6.0 py-boost-0.1.0\n"
     ]
    }
   ],
   "source": [
    "!pip install cupy-cuda110 py-boost"
   ]
  },
  {
   "cell_type": "markdown",
   "metadata": {},
   "source": [
    "### Imports"
   ]
  },
  {
   "cell_type": "code",
   "execution_count": 2,
   "metadata": {},
   "outputs": [],
   "source": [
    "import os\n",
    "# Optional: set the device to run\n",
    "os.environ[\"CUDA_DEVICE_ORDER\"] = \"PCI_BUS_ID\"\n",
    "os.environ[\"CUDA_VISIBLE_DEVICES\"] = \"1\"\n",
    "\n",
    "import joblib\n",
    "from sklearn.datasets import make_regression\n",
    "\n",
    "# simple case - just one class is used\n",
    "from py_boost import GradientBoosting "
   ]
  },
  {
   "cell_type": "markdown",
   "metadata": {},
   "source": [
    "### Generate dummy regression data"
   ]
  },
  {
   "cell_type": "code",
   "execution_count": 3,
   "metadata": {},
   "outputs": [
    {
     "name": "stdout",
     "output_type": "stream",
     "text": [
      "CPU times: user 2.17 s, sys: 1.41 s, total: 3.58 s\n",
      "Wall time: 830 ms\n"
     ]
    }
   ],
   "source": [
    "%%time\n",
    "X, y = make_regression(150000, 100, n_targets=10, random_state=42)\n",
    "X_test, y_test = X[:50000], y[:50000]\n",
    "X, y = X[-50000:], y[-50000:]"
   ]
  },
  {
   "cell_type": "markdown",
   "metadata": {},
   "source": [
    "### Train GBM\n",
    "\n",
    "The only required argument here is the loss funnction. Type of solved task is defined by loss function and input target shape. It could be passed as Loss instance or via string alias:\n",
    "\n",
    "* ***'mse'*** for the regression/multitask regression\n",
    "* ***'msle'*** for the regression/multitask regression\n",
    "* ***'bce'*** for the binary/multilabel classification\n",
    "* ***'crossentropy'*** for the multiclassification\n",
    "\n",
    "\n",
    "Training is simply done by calling .fit metod. Possible arguments:\n",
    "\n",
    "* ***'X'*** \n",
    "* ***'y'*** \n",
    "* ***'sample_weight'*** \n",
    "* ***'eval_sets'*** Validation set is passed as the list of dict with possible keys ['X', 'y', 'sample_weight']. Note: if multiple valid sets are passed, the best model is selected using the last one\n",
    "\n",
    "#### The example below illustrates how to train simple regression task:"
   ]
  },
  {
   "cell_type": "code",
   "execution_count": 4,
   "metadata": {},
   "outputs": [
    {
     "name": "stdout",
     "output_type": "stream",
     "text": [
      "[09:23:52] Stdout logging level is INFO.\n",
      "[09:23:52] GDBT train starts. Max iter 100, early stopping rounds 100\n",
      "[09:24:01] Iter 0; Sample 0, rmse = 173.67502181700436; \n",
      "[09:24:01] Iter 10; Sample 0, rmse = 133.19548984492013; \n",
      "[09:24:01] Iter 20; Sample 0, rmse = 107.86651411759983; \n",
      "[09:24:01] Iter 30; Sample 0, rmse = 90.08263834155294; \n",
      "[09:24:02] Iter 40; Sample 0, rmse = 76.44572334886129; \n",
      "[09:24:02] Iter 50; Sample 0, rmse = 65.61088448487712; \n",
      "[09:24:02] Iter 60; Sample 0, rmse = 56.80205311670096; \n",
      "[09:24:02] Iter 70; Sample 0, rmse = 49.57775313009075; \n",
      "[09:24:02] Iter 80; Sample 0, rmse = 43.60435310801947; \n",
      "[09:24:02] Iter 90; Sample 0, rmse = 38.69833114722225; \n",
      "[09:24:02] Iter 99; Sample 0, rmse = 34.992585070918345; \n",
      "CPU times: user 13.4 s, sys: 1.01 s, total: 14.4 s\n",
      "Wall time: 13.1 s\n"
     ]
    },
    {
     "data": {
      "text/plain": [
       "<py_boost.gpu.boosting.GradientBoosting at 0x7f04cc436730>"
      ]
     },
     "execution_count": 4,
     "metadata": {},
     "output_type": "execute_result"
    }
   ],
   "source": [
    "%%time\n",
    "model = GradientBoosting('mse')\n",
    "\n",
    "model.fit(X, y[:, 0], eval_sets=[{'X': X_test, 'y': y_test[:, 0]},])"
   ]
  },
  {
   "cell_type": "markdown",
   "metadata": {},
   "source": [
    "### Train for multiregression\n",
    "\n",
    "Each of built-in loss functions has its own default metric, so metric definition is optional. If you need to specify eval metric, you could pass Metric instance or use string alias:\n",
    "\n",
    "#### Default metrics:\n",
    "\n",
    "* ***'rmse'*** is the default for the ***'mse'*** loss\n",
    "* ***'rmsle'*** is the default for the  ***'msle'*** loss\n",
    "* ***'bce'*** is the default for the ***'bce'*** loss\n",
    "* ***'crossentropy'*** is the default for the ***'crossentropy'*** loss\n",
    "\n",
    "#### Non default metrics:\n",
    "\n",
    "* ***'r2'*** for the regression/multitask regression\n",
    "* ***'auc'*** for the binary classification\n",
    "* ***'accuracy'*** for any classification task\n",
    "* ***'precision'*** for any classification task\n",
    "* ***'recall'*** for any classification task\n",
    "* ***'f1'*** for any classification task\n",
    "\n",
    "\n",
    "Also you can specify other common GBDT hyperparameters as shown below\n",
    "\n",
    "#### The example below demonstrates the example of training model for multioutput regression task, no extra definition needed to switch the task, just pass multidimensional target:"
   ]
  },
  {
   "cell_type": "code",
   "execution_count": 5,
   "metadata": {},
   "outputs": [
    {
     "name": "stdout",
     "output_type": "stream",
     "text": [
      "[09:24:03] Stdout logging level is INFO.\n",
      "[09:24:03] GDBT train starts. Max iter 1000, early stopping rounds 200\n",
      "[09:24:06] Iter 0; Sample 0, R2_score = 0.008384933670233796; \n",
      "[09:24:07] Iter 100; Sample 0, R2_score = 0.5168154388837194; \n",
      "[09:24:09] Iter 200; Sample 0, R2_score = 0.7242525134774166; \n",
      "[09:24:11] Iter 300; Sample 0, R2_score = 0.8327166794367539; \n",
      "[09:24:12] Iter 400; Sample 0, R2_score = 0.8949136799796336; \n",
      "[09:24:14] Iter 500; Sample 0, R2_score = 0.9319944236361948; \n",
      "[09:24:16] Iter 600; Sample 0, R2_score = 0.9546369126361514; \n",
      "[09:24:18] Iter 700; Sample 0, R2_score = 0.9686988212185522; \n",
      "[09:24:19] Iter 800; Sample 0, R2_score = 0.9775841290463113; \n",
      "[09:24:21] Iter 900; Sample 0, R2_score = 0.9832721775452911; \n",
      "[09:24:23] Iter 999; Sample 0, R2_score = 0.9869727592306777; \n",
      "CPU times: user 20.2 s, sys: 2.04 s, total: 22.2 s\n",
      "Wall time: 20.7 s\n"
     ]
    },
    {
     "data": {
      "text/plain": [
       "<py_boost.gpu.boosting.GradientBoosting at 0x7f032fe4fd60>"
      ]
     },
     "execution_count": 5,
     "metadata": {},
     "output_type": "execute_result"
    }
   ],
   "source": [
    "%%time\n",
    "model = GradientBoosting('mse', 'r2_score',\n",
    "                         ntrees=1000, lr=.01, verbose=100, es=200, lambda_l2=1,\n",
    "                         subsample=.8, colsample=.8, min_data_in_leaf=10, min_gain_to_split=0, \n",
    "                         max_bin=256, max_depth=6)\n",
    "\n",
    "model.fit(X, y, eval_sets=[{'X': X_test, 'y': y_test},])"
   ]
  },
  {
   "cell_type": "markdown",
   "metadata": {},
   "source": [
    "## Inference\n",
    "\n",
    "#### Prediction could be done via calling .predict method"
   ]
  },
  {
   "cell_type": "code",
   "execution_count": 6,
   "metadata": {},
   "outputs": [
    {
     "name": "stdout",
     "output_type": "stream",
     "text": [
      "CPU times: user 1.09 s, sys: 451 ms, total: 1.54 s\n",
      "Wall time: 1.54 s\n"
     ]
    },
    {
     "data": {
      "text/plain": [
       "(50000, 10)"
      ]
     },
     "execution_count": 6,
     "metadata": {},
     "output_type": "execute_result"
    }
   ],
   "source": [
    "%%time\n",
    "preds = model.predict(X_test)\n",
    "\n",
    "preds.shape"
   ]
  },
  {
   "cell_type": "code",
   "execution_count": 7,
   "metadata": {},
   "outputs": [
    {
     "data": {
      "text/plain": [
       "array([[-241.8923  , -149.8982  , -282.2822  , ..., -146.42816 ,\n",
       "        -219.73492 , -236.32663 ],\n",
       "       [-113.9823  , -114.28678 ,  -60.7693  , ..., -128.62047 ,\n",
       "        -116.691444,  -20.987906],\n",
       "       [ -38.82068 ,  -60.793297,  144.03748 , ...,   14.923006,\n",
       "         -28.45954 , -211.73474 ],\n",
       "       ...,\n",
       "       [ -80.47606 ,  131.23747 ,   83.49576 , ...,  223.02928 ,\n",
       "          32.694347,   12.786787],\n",
       "       [  -7.73693 ,  140.71503 ,  247.16324 , ...,  151.71132 ,\n",
       "         176.81691 ,  208.22423 ],\n",
       "       [ -15.201057,   37.500587,  171.29694 , ...,   96.09559 ,\n",
       "          23.459866,    7.251984]], dtype=float32)"
      ]
     },
     "execution_count": 7,
     "metadata": {},
     "output_type": "execute_result"
    }
   ],
   "source": [
    "preds"
   ]
  },
  {
   "cell_type": "markdown",
   "metadata": {},
   "source": [
    "#### Prediction for certan iterations could be done via calling .predict_staged method"
   ]
  },
  {
   "cell_type": "code",
   "execution_count": 8,
   "metadata": {},
   "outputs": [
    {
     "name": "stdout",
     "output_type": "stream",
     "text": [
      "CPU times: user 251 ms, sys: 243 ms, total: 494 ms\n",
      "Wall time: 494 ms\n"
     ]
    },
    {
     "data": {
      "text/plain": [
       "(3, 50000, 10)"
      ]
     },
     "execution_count": 8,
     "metadata": {},
     "output_type": "execute_result"
    }
   ],
   "source": [
    "%%time\n",
    "preds = model.predict_staged(X_test, iterations=[100, 300, 500])\n",
    "\n",
    "preds.shape"
   ]
  },
  {
   "cell_type": "markdown",
   "metadata": {},
   "source": [
    "#### Tree leaves indicies prediction for certan iterations could be done via calling .predict_leaves method"
   ]
  },
  {
   "cell_type": "code",
   "execution_count": 9,
   "metadata": {},
   "outputs": [
    {
     "name": "stdout",
     "output_type": "stream",
     "text": [
      "CPU times: user 233 ms, sys: 8.24 ms, total: 241 ms\n",
      "Wall time: 240 ms\n"
     ]
    },
    {
     "data": {
      "text/plain": [
       "(3, 50000, 1)"
      ]
     },
     "execution_count": 9,
     "metadata": {},
     "output_type": "execute_result"
    }
   ],
   "source": [
    "%%time\n",
    "preds = model.predict_leaves(X_test, iterations=[100, 300, 500])\n",
    "\n",
    "preds.shape"
   ]
  },
  {
   "cell_type": "code",
   "execution_count": 10,
   "metadata": {},
   "outputs": [
    {
     "data": {
      "text/plain": [
       "array([[11, 22,  9],\n",
       "       [54, 45, 24],\n",
       "       [32, 45, 55],\n",
       "       ...,\n",
       "       [54, 52, 10],\n",
       "       [27, 45, 21],\n",
       "       [60, 45, 24]], dtype=uint32)"
      ]
     },
     "execution_count": 10,
     "metadata": {},
     "output_type": "execute_result"
    }
   ],
   "source": [
    "preds.T[0]"
   ]
  },
  {
   "cell_type": "markdown",
   "metadata": {},
   "source": [
    "#### Feature importances"
   ]
  },
  {
   "cell_type": "code",
   "execution_count": 11,
   "metadata": {},
   "outputs": [
    {
     "data": {
      "text/plain": [
       "array([  39.,   48.,   37.,   32.,   51.,   58., 5621.,   50.,   34.,\n",
       "         63.,   35.,   45.,   45.,   55.,   38., 6062., 5546.,   43.,\n",
       "         39., 5566.,   38.,   37.,   46.,   67.,   37.,   38.,   44.,\n",
       "         51.,   43.,   41.,   57.,   53.,   53.,   59.,   37.,   53.,\n",
       "       6064.,   48.,   39.,   46.,   54.,   51.,   64.,   35.,   60.,\n",
       "         54.,   41.,   57.,   49.,   44.,   41.,   47., 5758.,   34.,\n",
       "         51.,   70.,   35.,   30.,   41.,   36.,   61.,   36.,   41.,\n",
       "         51.,   52.,   38.,   48.,   43.,   41.,   69.,   54.,   40.,\n",
       "         45.,   40.,   46.,   60.,   40.,   39.,   43.,   50.,   62.,\n",
       "         46.,   36.,   41.,   55.,   40., 5634., 3415.,   48., 5874.,\n",
       "         51., 6055.,   33.,   50.,   47.,   44.,   31.,   54.,   33.,\n",
       "         62.], dtype=float32)"
      ]
     },
     "execution_count": 11,
     "metadata": {},
     "output_type": "execute_result"
    }
   ],
   "source": [
    "model.get_feature_importance()"
   ]
  },
  {
   "cell_type": "markdown",
   "metadata": {},
   "source": [
    "#### Trained model could be saved as pickle for inference"
   ]
  },
  {
   "cell_type": "code",
   "execution_count": 12,
   "metadata": {},
   "outputs": [
    {
     "data": {
      "text/plain": [
       "array([[-241.8923  , -149.8982  , -282.2822  , ..., -146.42816 ,\n",
       "        -219.73492 , -236.32663 ],\n",
       "       [-113.9823  , -114.28678 ,  -60.7693  , ..., -128.62047 ,\n",
       "        -116.691444,  -20.987906],\n",
       "       [ -38.82068 ,  -60.793297,  144.03748 , ...,   14.923006,\n",
       "         -28.45954 , -211.73474 ],\n",
       "       ...,\n",
       "       [ -80.47606 ,  131.23747 ,   83.49576 , ...,  223.02928 ,\n",
       "          32.694347,   12.786787],\n",
       "       [  -7.73693 ,  140.71503 ,  247.16324 , ...,  151.71132 ,\n",
       "         176.81691 ,  208.22423 ],\n",
       "       [ -15.201057,   37.500587,  171.29694 , ...,   96.09559 ,\n",
       "          23.459866,    7.251984]], dtype=float32)"
      ]
     },
     "execution_count": 12,
     "metadata": {},
     "output_type": "execute_result"
    }
   ],
   "source": [
    "joblib.dump(model, 'data/temp_model.pkl')\n",
    "\n",
    "new_model = joblib.load('data/temp_model.pkl')\n",
    "new_model.predict(X_test)"
   ]
  }
 ],
 "metadata": {
  "kernelspec": {
   "display_name": "Anaconda_py38",
   "language": "python",
   "name": "anaconda_py38"
  },
  "language_info": {
   "codemirror_mode": {
    "name": "ipython",
    "version": 3
   },
   "file_extension": ".py",
   "mimetype": "text/x-python",
   "name": "python",
   "nbconvert_exporter": "python",
   "pygments_lexer": "ipython3",
   "version": "3.8.5"
  }
 },
 "nbformat": 4,
 "nbformat_minor": 2
}
