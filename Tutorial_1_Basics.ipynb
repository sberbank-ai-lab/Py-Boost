{
 "cells": [
  {
   "cell_type": "markdown",
   "metadata": {},
   "source": [
    "## The simpliest usage example of py_boost"
   ]
  },
  {
   "cell_type": "markdown",
   "metadata": {},
   "source": [
    "### Installation (if needed)\n",
    "\n",
    "**Note**: replace cupy-cuda110 with your cuda version!!!"
   ]
  },
  {
   "cell_type": "code",
   "execution_count": 1,
   "metadata": {},
   "outputs": [],
   "source": [
    "# !pip install cupy-cuda110 py-boost"
   ]
  },
  {
   "cell_type": "markdown",
   "metadata": {},
   "source": [
    "### Imports"
   ]
  },
  {
   "cell_type": "code",
   "execution_count": 2,
   "metadata": {},
   "outputs": [],
   "source": [
    "import os\n",
    "# Optional: set the device to run\n",
    "os.environ[\"CUDA_DEVICE_ORDER\"] = \"PCI_BUS_ID\"\n",
    "os.environ[\"CUDA_VISIBLE_DEVICES\"] = \"1\"\n",
    "\n",
    "os.makedirs('data', exist_ok=True)\n",
    "\n",
    "import joblib\n",
    "from sklearn.datasets import make_regression\n",
    "\n",
    "# simple case - just one class is used\n",
    "from py_boost import GradientBoosting "
   ]
  },
  {
   "cell_type": "markdown",
   "metadata": {},
   "source": [
    "### Generation of dummy regression data"
   ]
  },
  {
   "cell_type": "code",
   "execution_count": 3,
   "metadata": {},
   "outputs": [
    {
     "name": "stdout",
     "output_type": "stream",
     "text": [
      "CPU times: user 2.16 s, sys: 1.39 s, total: 3.55 s\n",
      "Wall time: 818 ms\n"
     ]
    }
   ],
   "source": [
    "%%time\n",
    "X, y = make_regression(150000, 100, n_targets=10, random_state=42)\n",
    "X_test, y_test = X[:50000], y[:50000]\n",
    "X, y = X[-50000:], y[-50000:]"
   ]
  },
  {
   "cell_type": "markdown",
   "metadata": {},
   "source": [
    "### Training a GBDT model\n",
    "\n",
    "The only argument required here is a loss function. It, together with the input target shape, determines the task type. The loss function can be passed as a Loss instance or using a string alias:\n",
    "\n",
    "* ***'mse'*** for the regression/multitask regression\n",
    "* ***'msle'*** for the regression/multitask regression\n",
    "* ***'bce'*** for the binary/multilabel classification\n",
    "* ***'crossentropy'*** for the multiclassification\n",
    "\n",
    "Training is simply done by calling the .fit metod. Possible argumentsare the following:\n",
    "\n",
    "* ***'X'*** \n",
    "* ***'y'*** \n",
    "* ***'sample_weight'*** \n",
    "* ***'eval_sets'***  \n",
    "A validation set is passed as a list of dicts with possible keys ['X', 'y', 'sample_weight']. Note: if multiple valid sets are passed, the best model is selected using the last one.\n",
    "\n",
    "#### The example below illustrates how to train a simple regression task."
   ]
  },
  {
   "cell_type": "code",
   "execution_count": 4,
   "metadata": {},
   "outputs": [
    {
     "name": "stdout",
     "output_type": "stream",
     "text": [
      "[13:36:56] Stdout logging level is INFO.\n",
      "[13:36:56] GDBT train starts. Max iter 100, early stopping rounds 100\n",
      "[13:36:56] Iter 0; Sample 0, rmse = 173.67502259174105; \n",
      "[13:36:56] Iter 10; Sample 0, rmse = 133.19549012617102; \n",
      "[13:36:56] Iter 20; Sample 0, rmse = 107.86651480713061; \n",
      "[13:36:56] Iter 30; Sample 0, rmse = 90.08260826323315; \n",
      "[13:36:56] Iter 40; Sample 0, rmse = 76.44592871706898; \n",
      "[13:36:57] Iter 50; Sample 0, rmse = 65.61081640486391; \n",
      "[13:36:57] Iter 60; Sample 0, rmse = 56.80203684260939; \n",
      "[13:36:57] Iter 70; Sample 0, rmse = 49.57758870899029; \n",
      "[13:36:57] Iter 80; Sample 0, rmse = 43.60423015153368; \n",
      "[13:36:57] Iter 90; Sample 0, rmse = 38.698271034115564; \n",
      "[13:36:57] Iter 99; Sample 0, rmse = 34.99248027394042; \n",
      "CPU times: user 4.21 s, sys: 769 ms, total: 4.98 s\n",
      "Wall time: 4.2 s\n"
     ]
    },
    {
     "data": {
      "text/plain": [
       "<py_boost.gpu.boosting.GradientBoosting at 0x7f993f1453d0>"
      ]
     },
     "execution_count": 4,
     "metadata": {},
     "output_type": "execute_result"
    }
   ],
   "source": [
    "%%time\n",
    "model = GradientBoosting('mse')\n",
    "\n",
    "model.fit(X, y[:, 0], eval_sets=[{'X': X_test, 'y': y_test[:, 0]},])"
   ]
  },
  {
   "cell_type": "markdown",
   "metadata": {},
   "source": [
    "### Traininig a GBDT model in a multiregression case\n",
    "\n",
    "Each of built-in loss functions has its own default metric, so metric definition is optional. \n",
    "If you need to specify the evaluation metric, you can pass a Metric instance or use a string alias.\n",
    "\n",
    "#### Default metrics:\n",
    "\n",
    "* ***'rmse'*** is the default for the ***'mse'*** loss\n",
    "* ***'rmsle'*** is the default for the  ***'msle'*** loss\n",
    "* ***'bce'*** is the default for the ***'bce'*** loss\n",
    "* ***'crossentropy'*** is the default for the ***'crossentropy'*** loss\n",
    "\n",
    "#### Non-default metrics:\n",
    "\n",
    "* ***'r2'*** for the regression/multitask regression\n",
    "* ***'auc'*** for the binary classification\n",
    "* ***'accuracy'*** for any classification task\n",
    "* ***'precision'*** for any classification task\n",
    "* ***'recall'*** for any classification task\n",
    "* ***'f1'*** for any classification task\n",
    "\n",
    "It is possible to specify other common GBDT hyperparameters as shown below.\n",
    "\n",
    "#### The following example demonstrates how to train a model for a multioutput regression task (no extra definition needed to switch the task to multioutput one, you just need to pass a multidimensional target)."
   ]
  },
  {
   "cell_type": "code",
   "execution_count": 5,
   "metadata": {},
   "outputs": [
    {
     "name": "stdout",
     "output_type": "stream",
     "text": [
      "[13:36:57] Stdout logging level is INFO.\n",
      "[13:36:57] GDBT train starts. Max iter 1000, early stopping rounds 200\n",
      "[13:36:58] Iter 0; Sample 0, R2_score = 0.008384933719017152; \n",
      "[13:37:00] Iter 100; Sample 0, R2_score = 0.5168160162984419; \n",
      "[13:37:02] Iter 200; Sample 0, R2_score = 0.7242818472323869; \n",
      "[13:37:04] Iter 300; Sample 0, R2_score = 0.8326812183358807; \n",
      "[13:37:06] Iter 400; Sample 0, R2_score = 0.8949632615853698; \n",
      "[13:37:09] Iter 500; Sample 0, R2_score = 0.9320433721142856; \n",
      "[13:37:11] Iter 600; Sample 0, R2_score = 0.9546620597013271; \n",
      "[13:37:13] Iter 700; Sample 0, R2_score = 0.9687442621799958; \n",
      "[13:37:15] Iter 800; Sample 0, R2_score = 0.9776257612467603; \n",
      "[13:37:18] Iter 900; Sample 0, R2_score = 0.9833175063506848; \n",
      "[13:37:20] Iter 999; Sample 0, R2_score = 0.987007280794451; \n",
      "CPU times: user 21.3 s, sys: 2.61 s, total: 23.9 s\n",
      "Wall time: 22.7 s\n"
     ]
    },
    {
     "data": {
      "text/plain": [
       "<py_boost.gpu.boosting.GradientBoosting at 0x7f9b2ca75610>"
      ]
     },
     "execution_count": 5,
     "metadata": {},
     "output_type": "execute_result"
    }
   ],
   "source": [
    "%%time\n",
    "model = GradientBoosting('mse', 'r2_score',\n",
    "                         ntrees=1000, lr=.01, verbose=100, es=200, lambda_l2=1,\n",
    "                         subsample=.8, colsample=.8, min_data_in_leaf=10, min_gain_to_split=0, \n",
    "                         max_bin=256, max_depth=6)\n",
    "\n",
    "model.fit(X, y, eval_sets=[{'X': X_test, 'y': y_test},])"
   ]
  },
  {
   "cell_type": "markdown",
   "metadata": {},
   "source": [
    "## Inference\n",
    "\n",
    "#### Prediction can be done via calling the .predict method"
   ]
  },
  {
   "cell_type": "code",
   "execution_count": 6,
   "metadata": {},
   "outputs": [
    {
     "name": "stdout",
     "output_type": "stream",
     "text": [
      "CPU times: user 969 ms, sys: 470 ms, total: 1.44 s\n",
      "Wall time: 1.64 s\n"
     ]
    },
    {
     "data": {
      "text/plain": [
       "(50000, 10)"
      ]
     },
     "execution_count": 6,
     "metadata": {},
     "output_type": "execute_result"
    }
   ],
   "source": [
    "%%time\n",
    "preds = model.predict(X_test)\n",
    "\n",
    "preds.shape"
   ]
  },
  {
   "cell_type": "code",
   "execution_count": 7,
   "metadata": {},
   "outputs": [
    {
     "data": {
      "text/plain": [
       "array([[-240.39325  , -146.38701  , -278.4931   , ..., -140.4276   ,\n",
       "        -214.81644  , -235.54738  ],\n",
       "       [-112.46493  , -113.979645 ,  -60.654854 , ..., -129.82375  ,\n",
       "        -119.83982  ,  -21.774942 ],\n",
       "       [ -40.70634  ,  -63.056435 ,  141.13675  , ...,   11.234179 ,\n",
       "         -33.281082 , -209.6839   ],\n",
       "       ...,\n",
       "       [ -75.78832  ,  133.4913   ,   79.55582  , ...,  223.86246  ,\n",
       "          35.72327  ,   16.227137 ],\n",
       "       [  -2.2073328,  144.83105  ,  251.2446   , ...,  155.44762  ,\n",
       "         180.64246  ,  212.98679  ],\n",
       "       [ -22.812143 ,   31.183327 ,  166.83586  , ...,   91.17909  ,\n",
       "          19.619398 ,    2.1586423]], dtype=float32)"
      ]
     },
     "execution_count": 7,
     "metadata": {},
     "output_type": "execute_result"
    }
   ],
   "source": [
    "preds"
   ]
  },
  {
   "cell_type": "markdown",
   "metadata": {},
   "source": [
    "#### Prediction for certan iterations can be done via calling the .predict_staged method"
   ]
  },
  {
   "cell_type": "code",
   "execution_count": 8,
   "metadata": {},
   "outputs": [
    {
     "name": "stdout",
     "output_type": "stream",
     "text": [
      "CPU times: user 292 ms, sys: 242 ms, total: 534 ms\n",
      "Wall time: 610 ms\n"
     ]
    },
    {
     "data": {
      "text/plain": [
       "(3, 50000, 10)"
      ]
     },
     "execution_count": 8,
     "metadata": {},
     "output_type": "execute_result"
    }
   ],
   "source": [
    "%%time\n",
    "preds = model.predict_staged(X_test, iterations=[100, 300, 500])\n",
    "\n",
    "preds.shape"
   ]
  },
  {
   "cell_type": "markdown",
   "metadata": {},
   "source": [
    "#### Tree leaves indicies prediction for certan iterations can be done via calling the .predict_leaves method"
   ]
  },
  {
   "cell_type": "code",
   "execution_count": 9,
   "metadata": {},
   "outputs": [
    {
     "name": "stdout",
     "output_type": "stream",
     "text": [
      "CPU times: user 19 ms, sys: 495 µs, total: 19.5 ms\n",
      "Wall time: 48.8 ms\n"
     ]
    },
    {
     "data": {
      "text/plain": [
       "(3, 50000, 1)"
      ]
     },
     "execution_count": 9,
     "metadata": {},
     "output_type": "execute_result"
    }
   ],
   "source": [
    "%%time\n",
    "preds = model.predict_leaves(X_test, iterations=[100, 300, 500])\n",
    "\n",
    "preds.shape"
   ]
  },
  {
   "cell_type": "code",
   "execution_count": 10,
   "metadata": {},
   "outputs": [
    {
     "data": {
      "text/plain": [
       "array([[11, 21, 10],\n",
       "       [54, 46, 24],\n",
       "       [32, 46, 55],\n",
       "       ...,\n",
       "       [54, 53, 10],\n",
       "       [27, 46, 20],\n",
       "       [60, 46, 24]], dtype=uint32)"
      ]
     },
     "execution_count": 10,
     "metadata": {},
     "output_type": "execute_result"
    }
   ],
   "source": [
    "preds.T[0]"
   ]
  },
  {
   "cell_type": "markdown",
   "metadata": {},
   "source": [
    "#### Feature importances"
   ]
  },
  {
   "cell_type": "code",
   "execution_count": 11,
   "metadata": {},
   "outputs": [
    {
     "data": {
      "text/plain": [
       "array([  44.,   46.,   48.,   35.,   48.,   54., 5641.,   47.,   29.,\n",
       "         53.,   45.,   42.,   47.,   44.,   28., 5975., 5428.,   38.,\n",
       "         33., 5406.,   45.,   40.,   41.,   70.,   34.,   46.,   51.,\n",
       "         42.,   49.,   54.,   45.,   49.,   46.,   58.,   29.,   42.,\n",
       "       5990.,   42.,   47.,   40.,   45.,   43.,   59.,   47.,   45.,\n",
       "         60.,   31.,   41.,   61.,   50.,   40.,   45., 5989.,   37.,\n",
       "         55.,   63.,   40.,   31.,   44.,   43.,   37.,   47.,   46.,\n",
       "         50.,   45.,   37.,   45.,   48.,   39.,   65.,   38.,   38.,\n",
       "         38.,   38.,   25.,   56.,   51.,   41.,   39.,   53.,   65.,\n",
       "         49.,   43.,   45.,   55.,   35., 5687., 3626.,   46., 5826.,\n",
       "         54., 6092.,   38.,   43.,   50.,   38.,   36.,   49.,   48.,\n",
       "         52.], dtype=float32)"
      ]
     },
     "execution_count": 11,
     "metadata": {},
     "output_type": "execute_result"
    }
   ],
   "source": [
    "model.get_feature_importance()"
   ]
  },
  {
   "cell_type": "markdown",
   "metadata": {},
   "source": [
    "#### The trained model can be saved as pickle for inference"
   ]
  },
  {
   "cell_type": "code",
   "execution_count": 12,
   "metadata": {},
   "outputs": [
    {
     "data": {
      "text/plain": [
       "array([[-240.39325  , -146.38701  , -278.4931   , ..., -140.4276   ,\n",
       "        -214.81644  , -235.54738  ],\n",
       "       [-112.46493  , -113.979645 ,  -60.654854 , ..., -129.82375  ,\n",
       "        -119.83982  ,  -21.774942 ],\n",
       "       [ -40.70634  ,  -63.056435 ,  141.13675  , ...,   11.234179 ,\n",
       "         -33.281082 , -209.6839   ],\n",
       "       ...,\n",
       "       [ -75.78832  ,  133.4913   ,   79.55582  , ...,  223.86246  ,\n",
       "          35.72327  ,   16.227137 ],\n",
       "       [  -2.2073328,  144.83105  ,  251.2446   , ...,  155.44762  ,\n",
       "         180.64246  ,  212.98679  ],\n",
       "       [ -22.812143 ,   31.183327 ,  166.83586  , ...,   91.17909  ,\n",
       "          19.619398 ,    2.1586423]], dtype=float32)"
      ]
     },
     "execution_count": 12,
     "metadata": {},
     "output_type": "execute_result"
    }
   ],
   "source": [
    "joblib.dump(model, 'data/temp_model.pkl')\n",
    "\n",
    "new_model = joblib.load('data/temp_model.pkl')\n",
    "new_model.predict(X_test)"
   ]
  }
 ],
 "metadata": {
  "kernelspec": {
   "display_name": "Anaconda_py38",
   "language": "python",
   "name": "anaconda_py38"
  },
  "language_info": {
   "codemirror_mode": {
    "name": "ipython",
    "version": 3
   },
   "file_extension": ".py",
   "mimetype": "text/x-python",
   "name": "python",
   "nbconvert_exporter": "python",
   "pygments_lexer": "ipython3",
   "version": "3.8.5"
  }
 },
 "nbformat": 4,
 "nbformat_minor": 2
}
