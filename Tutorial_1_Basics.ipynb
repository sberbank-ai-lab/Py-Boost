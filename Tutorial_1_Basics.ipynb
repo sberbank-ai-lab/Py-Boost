{
 "cells": [
  {
   "cell_type": "markdown",
   "metadata": {},
   "source": [
    "## The simpliest usage example of py_boost"
   ]
  },
  {
   "cell_type": "markdown",
   "metadata": {},
   "source": [
    "### Installation (if needed)"
   ]
  },
  {
   "cell_type": "code",
   "execution_count": 1,
   "metadata": {},
   "outputs": [],
   "source": [
    "# !pip install py-boost"
   ]
  },
  {
   "cell_type": "markdown",
   "metadata": {},
   "source": [
    "### Imports"
   ]
  },
  {
   "cell_type": "code",
   "execution_count": 2,
   "metadata": {},
   "outputs": [],
   "source": [
    "import os\n",
    "# Optional: set the device to run\n",
    "os.environ[\"CUDA_DEVICE_ORDER\"] = \"PCI_BUS_ID\"\n",
    "os.environ[\"CUDA_VISIBLE_DEVICES\"] = \"1\"\n",
    "\n",
    "import joblib\n",
    "from sklearn.datasets import make_regression\n",
    "\n",
    "# simple case - just one class is used\n",
    "from py_boost import GradientBoosting "
   ]
  },
  {
   "cell_type": "markdown",
   "metadata": {},
   "source": [
    "### Generate dummy regression data"
   ]
  },
  {
   "cell_type": "code",
   "execution_count": 3,
   "metadata": {},
   "outputs": [
    {
     "name": "stdout",
     "output_type": "stream",
     "text": [
      "CPU times: user 2.07 s, sys: 1.47 s, total: 3.54 s\n",
      "Wall time: 809 ms\n"
     ]
    }
   ],
   "source": [
    "%%time\n",
    "X, y = make_regression(150000, 100, n_targets=10, random_state=42)\n",
    "X_test, y_test = X[:50000], y[:50000]\n",
    "X, y = X[-50000:], y[-50000:]"
   ]
  },
  {
   "cell_type": "markdown",
   "metadata": {},
   "source": [
    "### Train GBM\n",
    "\n",
    "The only required argument here is the loss funnction. Type of solved task is defined by loss function and input target shape. It could be passed as Loss instance or via string alias:\n",
    "\n",
    "* ***'mse'*** for the regression/multitask regression\n",
    "* ***'msle'*** for the regression/multitask regression\n",
    "* ***'bce'*** for the binary/multilabel classification\n",
    "* ***'crossentropy'*** for the multiclassification\n",
    "\n",
    "\n",
    "Training is simply done by calling .fit metod. Possible arguments:\n",
    "\n",
    "* ***'X'*** \n",
    "* ***'y'*** \n",
    "* ***'sample_weight'*** \n",
    "* ***'eval_sets'*** Validation set is passed as the list of dict with possible keys ['X', 'y', 'sample_weight']. Note: if multiple valid sets are passed, the best model is selected using the last one\n",
    "\n",
    "#### The example below illustrates how to train simple regression task:"
   ]
  },
  {
   "cell_type": "code",
   "execution_count": 4,
   "metadata": {},
   "outputs": [
    {
     "name": "stdout",
     "output_type": "stream",
     "text": [
      "[03:05:41] Stdout logging level is INFO.\n",
      "[03:05:41] GDBT train starts. Max iter 100, early stopping rounds 100\n",
      "[03:05:41] Iter 0; Sample 0, rmse = 173.6750220057655; \n",
      "[03:05:41] Iter 10; Sample 0, rmse = 133.1954905849117; \n",
      "[03:05:41] Iter 20; Sample 0, rmse = 107.86632150004753; \n",
      "[03:05:42] Iter 30; Sample 0, rmse = 90.08244855794447; \n",
      "[03:05:42] Iter 40; Sample 0, rmse = 76.44527769256084; \n",
      "[03:05:42] Iter 50; Sample 0, rmse = 65.61042654240376; \n",
      "[03:05:42] Iter 60; Sample 0, rmse = 56.80163725665563; \n",
      "[03:05:42] Iter 70; Sample 0, rmse = 49.57703267292228; \n",
      "[03:05:42] Iter 80; Sample 0, rmse = 43.603722017581426; \n",
      "[03:05:42] Iter 90; Sample 0, rmse = 38.69769765751429; \n",
      "[03:05:42] Iter 99; Sample 0, rmse = 34.991929680312666; \n",
      "CPU times: user 4.03 s, sys: 664 ms, total: 4.69 s\n",
      "Wall time: 3.45 s\n"
     ]
    },
    {
     "data": {
      "text/plain": [
       "<py_boost.gpu.boosting.GradientBoosting at 0x7fe380219760>"
      ]
     },
     "execution_count": 4,
     "metadata": {},
     "output_type": "execute_result"
    }
   ],
   "source": [
    "%%time\n",
    "model = GradientBoosting('mse')\n",
    "\n",
    "model.fit(X, y[:, 0], eval_sets=[{'X': X_test, 'y': y_test[:, 0]},])"
   ]
  },
  {
   "cell_type": "markdown",
   "metadata": {},
   "source": [
    "### Train for multiregression\n",
    "\n",
    "Each of built-in loss functions has its own default metric, so metric definition is optional. If you need to specify eval metric, you could pass Metric instance or use string alias:\n",
    "\n",
    "#### Default metrics:\n",
    "\n",
    "* ***'rmse'*** is the default for the ***'mse'*** loss\n",
    "* ***'rmsle'*** is the default for the  ***'msle'*** loss\n",
    "* ***'bce'*** is the default for the ***'bce'*** loss\n",
    "* ***'crossentropy'*** is the default for the ***'crossentropy'*** loss\n",
    "\n",
    "#### Non default metrics:\n",
    "\n",
    "* ***'r2'*** for the regression/multitask regression\n",
    "* ***'auc'*** for the binary classification\n",
    "* ***'accuracy'*** for any classification task\n",
    "* ***'precision'*** for any classification task\n",
    "* ***'recall'*** for any classification task\n",
    "* ***'f1'*** for any classification task\n",
    "\n",
    "\n",
    "Also you can specify other common GBDT hyperparameters as shown below\n",
    "\n",
    "#### The example below demonstrates the example of training model for multioutput regression task, no extra definition needed to switch the task, just pass multidimensional target:"
   ]
  },
  {
   "cell_type": "code",
   "execution_count": 5,
   "metadata": {},
   "outputs": [
    {
     "name": "stdout",
     "output_type": "stream",
     "text": [
      "[03:05:43] Stdout logging level is INFO.\n",
      "[03:05:43] GDBT train starts. Max iter 1000, early stopping rounds 200\n",
      "[03:05:43] Iter 0; Sample 0, R2_score = 0.008412879588052391; \n",
      "[03:05:44] Iter 100; Sample 0, R2_score = 0.5170943771682728; \n",
      "[03:05:46] Iter 200; Sample 0, R2_score = 0.7246209942553812; \n",
      "[03:05:48] Iter 300; Sample 0, R2_score = 0.8328702725409002; \n",
      "[03:05:49] Iter 400; Sample 0, R2_score = 0.8950261453129482; \n",
      "[03:05:51] Iter 500; Sample 0, R2_score = 0.9320781366121136; \n",
      "[03:05:53] Iter 600; Sample 0, R2_score = 0.9546805731420273; \n",
      "[03:05:54] Iter 700; Sample 0, R2_score = 0.9687201388800404; \n",
      "[03:05:56] Iter 800; Sample 0, R2_score = 0.9775984497641979; \n",
      "[03:05:58] Iter 900; Sample 0, R2_score = 0.9832880678482553; \n",
      "[03:05:59] Iter 999; Sample 0, R2_score = 0.9869727876125817; \n",
      "CPU times: user 16.9 s, sys: 1.7 s, total: 18.6 s\n",
      "Wall time: 17.3 s\n"
     ]
    },
    {
     "data": {
      "text/plain": [
       "<py_boost.gpu.boosting.GradientBoosting at 0x7fe19d7a52b0>"
      ]
     },
     "execution_count": 5,
     "metadata": {},
     "output_type": "execute_result"
    }
   ],
   "source": [
    "%%time\n",
    "model = GradientBoosting('mse', 'r2_score',\n",
    "                         ntrees=1000, lr=.01, verbose=100, es=200, lambda_l2=1,\n",
    "                         subsample=.8, colsample=.8, min_data_in_leaf=10, min_gain_to_split=0, \n",
    "                         max_bin=256, max_depth=6)\n",
    "\n",
    "model.fit(X, y, eval_sets=[{'X': X_test, 'y': y_test},])"
   ]
  },
  {
   "cell_type": "markdown",
   "metadata": {},
   "source": [
    "## Inference\n",
    "\n",
    "#### Prediction could be done via calling .predict method"
   ]
  },
  {
   "cell_type": "code",
   "execution_count": 6,
   "metadata": {},
   "outputs": [
    {
     "name": "stdout",
     "output_type": "stream",
     "text": [
      "CPU times: user 831 ms, sys: 476 ms, total: 1.31 s\n",
      "Wall time: 1.31 s\n"
     ]
    },
    {
     "data": {
      "text/plain": [
       "(50000, 10)"
      ]
     },
     "execution_count": 6,
     "metadata": {},
     "output_type": "execute_result"
    }
   ],
   "source": [
    "%%time\n",
    "preds = model.predict(X_test)\n",
    "\n",
    "preds.shape"
   ]
  },
  {
   "cell_type": "code",
   "execution_count": 7,
   "metadata": {},
   "outputs": [
    {
     "data": {
      "text/plain": [
       "array([[-228.35983  , -138.24062  , -270.85815  , ..., -132.49632  ,\n",
       "        -207.68971  , -227.21599  ],\n",
       "       [-107.79079  , -106.12598  ,  -54.361683 , ..., -122.162834 ,\n",
       "        -112.88282  ,  -15.996089 ],\n",
       "       [ -38.86242  ,  -60.58174  ,  149.93024  , ...,   19.207836 ,\n",
       "         -26.376608 , -211.70198  ],\n",
       "       ...,\n",
       "       [ -93.89007  ,  123.4826   ,   79.73774  , ...,  216.58656  ,\n",
       "          29.11607  ,    6.3970094],\n",
       "       [  -9.551284 ,  131.65627  ,  242.57858  , ...,  141.3406   ,\n",
       "         166.46692  ,  204.59633  ],\n",
       "       [ -28.870468 ,   27.83899  ,  167.77754  , ...,   89.18847  ,\n",
       "          18.723934 ,   -5.1239767]], dtype=float32)"
      ]
     },
     "execution_count": 7,
     "metadata": {},
     "output_type": "execute_result"
    }
   ],
   "source": [
    "preds"
   ]
  },
  {
   "cell_type": "markdown",
   "metadata": {},
   "source": [
    "#### Prediction for certan iterations could be done via calling .predict_staged method"
   ]
  },
  {
   "cell_type": "code",
   "execution_count": 8,
   "metadata": {},
   "outputs": [
    {
     "name": "stdout",
     "output_type": "stream",
     "text": [
      "CPU times: user 246 ms, sys: 225 ms, total: 471 ms\n",
      "Wall time: 470 ms\n"
     ]
    },
    {
     "data": {
      "text/plain": [
       "(3, 50000, 10)"
      ]
     },
     "execution_count": 8,
     "metadata": {},
     "output_type": "execute_result"
    }
   ],
   "source": [
    "%%time\n",
    "preds = model.predict_staged(X_test, iterations=[100, 300, 500])\n",
    "\n",
    "preds.shape"
   ]
  },
  {
   "cell_type": "markdown",
   "metadata": {},
   "source": [
    "#### Tree leaves indicies prediction for certan iterations could be done via calling .predict_leaves method"
   ]
  },
  {
   "cell_type": "code",
   "execution_count": 9,
   "metadata": {},
   "outputs": [
    {
     "name": "stdout",
     "output_type": "stream",
     "text": [
      "CPU times: user 15.1 ms, sys: 3.84 ms, total: 18.9 ms\n",
      "Wall time: 17.8 ms\n"
     ]
    },
    {
     "data": {
      "text/plain": [
       "(3, 50000, 1)"
      ]
     },
     "execution_count": 9,
     "metadata": {},
     "output_type": "execute_result"
    }
   ],
   "source": [
    "%%time\n",
    "preds = model.predict_leaves(X_test, iterations=[100, 300, 500])\n",
    "\n",
    "preds.shape"
   ]
  },
  {
   "cell_type": "code",
   "execution_count": 10,
   "metadata": {},
   "outputs": [
    {
     "data": {
      "text/plain": [
       "array([[ 4,  6, 32],\n",
       "       [28,  6, 46],\n",
       "       [ 1,  4, 21],\n",
       "       ...,\n",
       "       [29,  6, 32],\n",
       "       [ 3, 29, 32],\n",
       "       [19,  7, 32]], dtype=uint32)"
      ]
     },
     "execution_count": 10,
     "metadata": {},
     "output_type": "execute_result"
    }
   ],
   "source": [
    "preds.T[0]"
   ]
  },
  {
   "cell_type": "markdown",
   "metadata": {},
   "source": [
    "#### Feature importances"
   ]
  },
  {
   "cell_type": "code",
   "execution_count": 11,
   "metadata": {},
   "outputs": [
    {
     "data": {
      "text/plain": [
       "array([  39.,   51.,   38.,   35.,   67.,   42., 5539.,   42.,   52.,\n",
       "         59.,   40.,   46.,   27.,   47.,   36., 5806., 5599.,   42.,\n",
       "         36., 5492.,   24.,   39.,   47.,   47.,   27.,   33.,   49.,\n",
       "         49.,   34.,   47.,   34.,   65.,   52.,   52.,   35.,   48.,\n",
       "       5870.,   44.,   45.,   36.,   67.,   52.,   31.,   43.,   51.,\n",
       "         38.,   41.,   52.,   57.,   47.,   65.,   50., 5954.,   49.,\n",
       "         46.,   69.,   44.,   32.,   42.,   43.,   42.,   48.,   41.,\n",
       "         55.,   47.,   35.,   45.,   45.,   52.,   62.,   43.,   33.,\n",
       "         37.,   46.,   43.,   47.,   62.,   46.,   43.,   60.,   53.,\n",
       "         58.,   44.,   27.,   52.,   35., 5751., 3570.,   56., 5829.,\n",
       "         47., 6173.,   48.,   35.,   54.,   47.,   37.,   42.,   46.,\n",
       "         59.], dtype=float32)"
      ]
     },
     "execution_count": 11,
     "metadata": {},
     "output_type": "execute_result"
    }
   ],
   "source": [
    "model.get_feature_importance()"
   ]
  },
  {
   "cell_type": "markdown",
   "metadata": {},
   "source": [
    "#### Trained model could be saved as pickle for inference"
   ]
  },
  {
   "cell_type": "code",
   "execution_count": 12,
   "metadata": {},
   "outputs": [
    {
     "data": {
      "text/plain": [
       "array([[-228.35983  , -138.24062  , -270.85815  , ..., -132.49632  ,\n",
       "        -207.68971  , -227.21599  ],\n",
       "       [-107.79079  , -106.12598  ,  -54.361683 , ..., -122.162834 ,\n",
       "        -112.88282  ,  -15.996089 ],\n",
       "       [ -38.86242  ,  -60.58174  ,  149.93024  , ...,   19.207836 ,\n",
       "         -26.376608 , -211.70198  ],\n",
       "       ...,\n",
       "       [ -93.89007  ,  123.4826   ,   79.73774  , ...,  216.58656  ,\n",
       "          29.11607  ,    6.3970094],\n",
       "       [  -9.551284 ,  131.65627  ,  242.57858  , ...,  141.3406   ,\n",
       "         166.46692  ,  204.59633  ],\n",
       "       [ -28.870468 ,   27.83899  ,  167.77754  , ...,   89.18847  ,\n",
       "          18.723934 ,   -5.1239767]], dtype=float32)"
      ]
     },
     "execution_count": 12,
     "metadata": {},
     "output_type": "execute_result"
    }
   ],
   "source": [
    "joblib.dump(model, 'temp_model.pkl')\n",
    "\n",
    "new_model = joblib.load('temp_model.pkl')\n",
    "new_model.predict(X_test)"
   ]
  }
 ],
 "metadata": {
  "kernelspec": {
   "display_name": "Anaconda_py38",
   "language": "python",
   "name": "anaconda_py38"
  },
  "language_info": {
   "codemirror_mode": {
    "name": "ipython",
    "version": 3
   },
   "file_extension": ".py",
   "mimetype": "text/x-python",
   "name": "python",
   "nbconvert_exporter": "python",
   "pygments_lexer": "ipython3",
   "version": "3.8.5"
  }
 },
 "nbformat": 4,
 "nbformat_minor": 2
}
